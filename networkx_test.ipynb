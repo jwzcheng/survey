{
 "cells": [
  {
   "cell_type": "markdown",
   "metadata": {},
   "source": [
    "# Networkx"
   ]
  },
  {
   "cell_type": "code",
   "execution_count": 1,
   "metadata": {},
   "outputs": [],
   "source": [
    "import networkx as nx\n",
    "import numba\n",
    "import numpy as np"
   ]
  },
  {
   "cell_type": "code",
   "execution_count": 2,
   "metadata": {},
   "outputs": [],
   "source": [
    "G = nx.Graph()\n",
    "\n",
    "edges = [\n",
    "    ('X', 'A', 7),\n",
    "    ('X', 'B', 2),\n",
    "    ('X', 'C', 3),\n",
    "    ('X', 'E', 4),\n",
    "    ('A', 'B', 3),\n",
    "    ('A', 'D', 4),\n",
    "    ('B', 'D', 4),\n",
    "    ('B', 'H', 5),\n",
    "    ('C', 'L', 2),\n",
    "    ('D', 'F', 1),\n",
    "    ('F', 'H', 3),\n",
    "    ('G', 'H', 2),\n",
    "    ('G', 'Y', 2),\n",
    "    ('I', 'J', 6),\n",
    "    ('I', 'K', 4),\n",
    "    ('I', 'L', 4),\n",
    "    ('J', 'L', 1),\n",
    "    ('K', 'Y', 5),\n",
    "]\n",
    "\n",
    "G.add_weighted_edges_from(edges)"
   ]
  },
  {
   "cell_type": "code",
   "execution_count": 3,
   "metadata": {},
   "outputs": [
    {
     "data": {
      "text/plain": [
       "11"
      ]
     },
     "execution_count": 3,
     "metadata": {},
     "output_type": "execute_result"
    }
   ],
   "source": [
    "nx.dijkstra_path_length(G, 'X', 'Y')"
   ]
  },
  {
   "cell_type": "code",
   "execution_count": 22,
   "metadata": {},
   "outputs": [
    {
     "data": {
      "text/plain": [
       "['X', 'A', 'B', 'C', 'E', 'D', 'H', 'L', 'F', 'G', 'Y', 'I', 'J', 'K']"
      ]
     },
     "execution_count": 22,
     "metadata": {},
     "output_type": "execute_result"
    }
   ],
   "source": [
    "list(G.nodes)"
   ]
  },
  {
   "cell_type": "code",
   "execution_count": 5,
   "metadata": {},
   "outputs": [
    {
     "data": {
      "text/plain": [
       "[('X', 'A'),\n",
       " ('X', 'B'),\n",
       " ('X', 'C'),\n",
       " ('X', 'E'),\n",
       " ('A', 'B'),\n",
       " ('A', 'D'),\n",
       " ('B', 'D'),\n",
       " ('B', 'H'),\n",
       " ('C', 'L'),\n",
       " ('D', 'F'),\n",
       " ('H', 'F'),\n",
       " ('H', 'G'),\n",
       " ('L', 'I'),\n",
       " ('L', 'J'),\n",
       " ('G', 'Y'),\n",
       " ('Y', 'K'),\n",
       " ('I', 'J'),\n",
       " ('I', 'K')]"
      ]
     },
     "execution_count": 5,
     "metadata": {},
     "output_type": "execute_result"
    }
   ],
   "source": [
    "list(G.edges)"
   ]
  },
  {
   "cell_type": "code",
   "execution_count": 7,
   "metadata": {},
   "outputs": [],
   "source": [
    "def comp_shortest_path(G, start, end, out):\n",
    "    count = 0\n",
    "    for s in start:\n",
    "        for e in end:\n",
    "            out[count] = nx.dijkstra_path_length(G, s, e)\n",
    "            count+=1\n",
    "            \n",
    "start = list(G.nodes)\n",
    "end = list(G.nodes)\n",
    "out = np.zeros(len(start)*len(end))\n",
    "comp_shortest_path(G, start, end, out)"
   ]
  },
  {
   "cell_type": "code",
   "execution_count": 8,
   "metadata": {},
   "outputs": [
    {
     "data": {
      "text/plain": [
       "array([ 0.,  5.,  2.,  3.,  4.,  6.,  7.,  5.,  7.,  9., 11.,  9.,  6.,\n",
       "       13.,  5.,  0.,  3.,  8.,  9.,  4.,  8., 10.,  5., 10., 12., 14.,\n",
       "       11., 17.,  2.,  3.,  0.,  5.,  6.,  4.,  5.,  7.,  5.,  7.,  9.,\n",
       "       11.,  8., 14.,  3.,  8.,  5.,  0.,  7.,  9., 10.,  2., 10., 12.,\n",
       "       14.,  6.,  3., 10.,  4.,  9.,  6.,  7.,  0., 10., 11.,  9., 11.,\n",
       "       13., 15., 13., 10., 17.,  6.,  4.,  4.,  9., 10.,  0.,  4., 11.,\n",
       "        1.,  6.,  8., 15., 12., 13.,  7.,  8.,  5., 10., 11.,  4.,  0.,\n",
       "       12.,  3.,  2.,  4., 13., 13.,  9.,  5., 10.,  7.,  2.,  9., 11.,\n",
       "       12.,  0., 12., 14., 13.,  4.,  1.,  8.,  7.,  5.,  5., 10., 11.,\n",
       "        1.,  3., 12.,  0.,  5.,  7., 16., 13., 12.,  9., 10.,  7., 12.,\n",
       "       13.,  6.,  2., 14.,  5.,  0.,  2., 11., 15.,  7., 11., 12.,  9.,\n",
       "       14., 15.,  8.,  4., 13.,  7.,  2.,  0.,  9., 14.,  5.,  9., 14.,\n",
       "       11.,  6., 13., 15., 13.,  4., 16., 11.,  9.,  0.,  5.,  4.,  6.,\n",
       "       11.,  8.,  3., 10., 12., 13.,  1., 13., 15., 14.,  5.,  0.,  9.,\n",
       "       13., 17., 14., 10., 17., 13.,  9.,  8., 12.,  7.,  5.,  4.,  9.,\n",
       "        0.])"
      ]
     },
     "execution_count": 8,
     "metadata": {},
     "output_type": "execute_result"
    }
   ],
   "source": [
    "out"
   ]
  },
  {
   "cell_type": "code",
   "execution_count": 57,
   "metadata": {},
   "outputs": [
    {
     "name": "stdout",
     "output_type": "stream",
     "text": [
      "CPU times: user 2.32 ms, sys: 39 µs, total: 2.36 ms\n",
      "Wall time: 2.39 ms\n"
     ]
    }
   ],
   "source": [
    "### main SOL.\n",
    "%%time\n",
    "# @numba.jit\n",
    "def pair_shortest_path(G, start, end, out):\n",
    "    count=0\n",
    "    for s in range(len(start)):\n",
    "        for e in range(s+1, len(end)):\n",
    "            out[count] = [start[s], end[e], nx.dijkstra_path_length(G, start[s], end[e])]\n",
    "            count+=1\n",
    "            \n",
    "start = list(G.nodes)\n",
    "end = list(G.nodes)\n",
    "pair = np.zeros([sum(range(len(start))), 3], dtype='str')\n",
    "pair_shortest_path(G, start, end, pair)"
   ]
  },
  {
   "cell_type": "code",
   "execution_count": 60,
   "metadata": {},
   "outputs": [
    {
     "data": {
      "text/plain": [
       "array([['X', 'A', '5'],\n",
       "       ['X', 'B', '2'],\n",
       "       ['X', 'C', '3'],\n",
       "       ['X', 'E', '4'],\n",
       "       ['X', 'D', '6'],\n",
       "       ['X', 'H', '7'],\n",
       "       ['X', 'L', '5'],\n",
       "       ['X', 'F', '7'],\n",
       "       ['X', 'G', '9'],\n",
       "       ['X', 'Y', '1'],\n",
       "       ['X', 'I', '9'],\n",
       "       ['X', 'J', '6'],\n",
       "       ['X', 'K', '1'],\n",
       "       ['A', 'B', '3'],\n",
       "       ['A', 'C', '8'],\n",
       "       ['A', 'E', '9'],\n",
       "       ['A', 'D', '4'],\n",
       "       ['A', 'H', '8'],\n",
       "       ['A', 'L', '1'],\n",
       "       ['A', 'F', '5'],\n",
       "       ['A', 'G', '1'],\n",
       "       ['A', 'Y', '1'],\n",
       "       ['A', 'I', '1'],\n",
       "       ['A', 'J', '1'],\n",
       "       ['A', 'K', '1'],\n",
       "       ['B', 'C', '5'],\n",
       "       ['B', 'E', '6'],\n",
       "       ['B', 'D', '4'],\n",
       "       ['B', 'H', '5'],\n",
       "       ['B', 'L', '7'],\n",
       "       ['B', 'F', '5'],\n",
       "       ['B', 'G', '7'],\n",
       "       ['B', 'Y', '9'],\n",
       "       ['B', 'I', '1'],\n",
       "       ['B', 'J', '8'],\n",
       "       ['B', 'K', '1'],\n",
       "       ['C', 'E', '7'],\n",
       "       ['C', 'D', '9'],\n",
       "       ['C', 'H', '1'],\n",
       "       ['C', 'L', '2'],\n",
       "       ['C', 'F', '1'],\n",
       "       ['C', 'G', '1'],\n",
       "       ['C', 'Y', '1'],\n",
       "       ['C', 'I', '6'],\n",
       "       ['C', 'J', '3'],\n",
       "       ['C', 'K', '1'],\n",
       "       ['E', 'D', '1'],\n",
       "       ['E', 'H', '1'],\n",
       "       ['E', 'L', '9'],\n",
       "       ['E', 'F', '1'],\n",
       "       ['E', 'G', '1'],\n",
       "       ['E', 'Y', '1'],\n",
       "       ['E', 'I', '1'],\n",
       "       ['E', 'J', '1'],\n",
       "       ['E', 'K', '1'],\n",
       "       ['D', 'H', '4'],\n",
       "       ['D', 'L', '1'],\n",
       "       ['D', 'F', '1'],\n",
       "       ['D', 'G', '6'],\n",
       "       ['D', 'Y', '8'],\n",
       "       ['D', 'I', '1'],\n",
       "       ['D', 'J', '1'],\n",
       "       ['D', 'K', '1'],\n",
       "       ['H', 'L', '1'],\n",
       "       ['H', 'F', '3'],\n",
       "       ['H', 'G', '2'],\n",
       "       ['H', 'Y', '4'],\n",
       "       ['H', 'I', '1'],\n",
       "       ['H', 'J', '1'],\n",
       "       ['H', 'K', '9'],\n",
       "       ['L', 'F', '1'],\n",
       "       ['L', 'G', '1'],\n",
       "       ['L', 'Y', '1'],\n",
       "       ['L', 'I', '4'],\n",
       "       ['L', 'J', '1'],\n",
       "       ['L', 'K', '8'],\n",
       "       ['F', 'G', '5'],\n",
       "       ['F', 'Y', '7'],\n",
       "       ['F', 'I', '1'],\n",
       "       ['F', 'J', '1'],\n",
       "       ['F', 'K', '1'],\n",
       "       ['G', 'Y', '2'],\n",
       "       ['G', 'I', '1'],\n",
       "       ['G', 'J', '1'],\n",
       "       ['G', 'K', '7'],\n",
       "       ['Y', 'I', '9'],\n",
       "       ['Y', 'J', '1'],\n",
       "       ['Y', 'K', '5'],\n",
       "       ['I', 'J', '5'],\n",
       "       ['I', 'K', '4'],\n",
       "       ['J', 'K', '9']], dtype='<U1')"
      ]
     },
     "execution_count": 60,
     "metadata": {},
     "output_type": "execute_result"
    }
   ],
   "source": [
    "pair"
   ]
  },
  {
   "cell_type": "code",
   "execution_count": 59,
   "metadata": {},
   "outputs": [
    {
     "data": {
      "text/plain": [
       "91"
      ]
     },
     "execution_count": 59,
     "metadata": {},
     "output_type": "execute_result"
    }
   ],
   "source": [
    "sum(range(len(start)))"
   ]
  },
  {
   "cell_type": "code",
   "execution_count": 51,
   "metadata": {},
   "outputs": [
    {
     "data": {
      "text/plain": [
       "87178291200"
      ]
     },
     "execution_count": 51,
     "metadata": {},
     "output_type": "execute_result"
    }
   ],
   "source": [
    "np.math.factorial(len(start))"
   ]
  },
  {
   "cell_type": "code",
   "execution_count": 52,
   "metadata": {},
   "outputs": [
    {
     "data": {
      "text/plain": [
       "14"
      ]
     },
     "execution_count": 52,
     "metadata": {},
     "output_type": "execute_result"
    }
   ],
   "source": [
    "len(start)"
   ]
  },
  {
   "cell_type": "code",
   "execution_count": 4,
   "metadata": {},
   "outputs": [
    {
     "name": "stderr",
     "output_type": "stream",
     "text": [
      "<timed exec>:2: NumbaWarning: \u001b[1m\n",
      "Compilation is falling back to object mode WITH looplifting enabled because Function \"test\" failed type inference due to: \u001b[1m\u001b[1m\u001b[1mNo implementation of function Function(<function concatenate at 0x1074449d0>) found for signature:\n",
      " \n",
      " >>> concatenate(Tuple(array([unichr x 5], 1d, C), array(int64, 1d, C)), axis=Literal[int](0))\n",
      " \n",
      "There are 2 candidate implementations:\n",
      "\u001b[1m      - Of which 2 did not match due to:\n",
      "      Overload in function 'concatenate': File: numba/core/typing/npydecl.py: Line 789.\n",
      "        With argument(s): '(Tuple(array([unichr x 5], 1d, C), array(int64, 1d, C)), axis=int64)':\u001b[0m\n",
      "\u001b[1m       Rejected as the implementation raised a specific error:\n",
      "         TypeError: np.concatenate(): input arrays must have compatible dtypes\u001b[0m\n",
      "  raised from /Users/jaycheng/venv/ws/lib/python3.8/site-packages/numba/core/typing/npydecl.py:772\n",
      "\u001b[0m\n",
      "\u001b[0m\u001b[1mDuring: resolving callee type: Function(<function concatenate at 0x1074449d0>)\u001b[0m\n",
      "\u001b[0m\u001b[1mDuring: typing of call at <timed exec> (8)\n",
      "\u001b[0m\n",
      "\u001b[1m\n",
      "File \"<timed exec>\", line 8:\u001b[0m\n",
      "\u001b[1m<source missing, REPL/exec in use?>\u001b[0m\n",
      "\u001b[0m\n",
      "<timed exec>:2: NumbaWarning: \u001b[1m\n",
      "Compilation is falling back to object mode WITHOUT looplifting enabled because Function \"test\" failed type inference due to: \u001b[1m\u001b[1mcannot determine Numba type of <class 'numba.core.dispatcher.LiftedLoop'>\u001b[0m\n",
      "\u001b[1m\n",
      "File \"<timed exec>\", line 5:\u001b[0m\n",
      "\u001b[1m<source missing, REPL/exec in use?>\u001b[0m\n",
      "\u001b[0m\u001b[0m\n",
      "/Users/jaycheng/venv/ws/lib/python3.8/site-packages/numba/core/object_mode_passes.py:177: NumbaWarning: \u001b[1mFunction \"test\" was compiled in object mode without forceobj=True, but has lifted loops.\n",
      "\u001b[1m\n",
      "File \"<timed exec>\", line 5:\u001b[0m\n",
      "\u001b[1m<source missing, REPL/exec in use?>\u001b[0m\n",
      "\u001b[0m\n",
      "  warnings.warn(errors.NumbaWarning(warn_msg,\n",
      "/Users/jaycheng/venv/ws/lib/python3.8/site-packages/numba/core/object_mode_passes.py:187: NumbaDeprecationWarning: \u001b[1m\n",
      "Fall-back from the nopython compilation path to the object mode compilation path has been detected, this is deprecated behaviour.\n",
      "\n",
      "For more information visit https://numba.pydata.org/numba-doc/latest/reference/deprecation.html#deprecation-of-object-mode-fall-back-behaviour-when-using-jit\n",
      "\u001b[1m\n",
      "File \"<timed exec>\", line 5:\u001b[0m\n",
      "\u001b[1m<source missing, REPL/exec in use?>\u001b[0m\n",
      "\u001b[0m\n",
      "  warnings.warn(errors.NumbaDeprecationWarning(msg,\n",
      "<timed exec>:2: NumbaWarning: \u001b[1m\n",
      "Compilation is falling back to object mode WITHOUT looplifting enabled because Function \"test\" failed type inference due to: \u001b[1m\u001b[1m\u001b[1mNo implementation of function Function(<function concatenate at 0x1074449d0>) found for signature:\n",
      " \n",
      " >>> concatenate(Tuple(array([unichr x 5], 1d, C), array(int64, 1d, C)), axis=Literal[int](0))\n",
      " \n",
      "There are 2 candidate implementations:\n",
      "\u001b[1m      - Of which 2 did not match due to:\n",
      "      Overload in function 'concatenate': File: numba/core/typing/npydecl.py: Line 789.\n",
      "        With argument(s): '(Tuple(array([unichr x 5], 1d, C), array(int64, 1d, C)), axis=int64)':\u001b[0m\n",
      "\u001b[1m       Rejected as the implementation raised a specific error:\n",
      "         TypeError: np.concatenate(): input arrays must have compatible dtypes\u001b[0m\n",
      "  raised from /Users/jaycheng/venv/ws/lib/python3.8/site-packages/numba/core/typing/npydecl.py:772\n",
      "\u001b[0m\n",
      "\u001b[0m\u001b[1mDuring: resolving callee type: Function(<function concatenate at 0x1074449d0>)\u001b[0m\n",
      "\u001b[0m\u001b[1mDuring: typing of call at <timed exec> (8)\n",
      "\u001b[0m\n",
      "\u001b[1m\n",
      "File \"<timed exec>\", line 8:\u001b[0m\n",
      "\u001b[1m<source missing, REPL/exec in use?>\u001b[0m\n",
      "\u001b[0m\n",
      "/Users/jaycheng/venv/ws/lib/python3.8/site-packages/numba/core/object_mode_passes.py:177: NumbaWarning: \u001b[1mFunction \"test\" was compiled in object mode without forceobj=True.\n",
      "\u001b[1m\n",
      "File \"<timed exec>\", line 5:\u001b[0m\n",
      "\u001b[1m<source missing, REPL/exec in use?>\u001b[0m\n",
      "\u001b[0m\n",
      "  warnings.warn(errors.NumbaWarning(warn_msg,\n",
      "/Users/jaycheng/venv/ws/lib/python3.8/site-packages/numba/core/object_mode_passes.py:187: NumbaDeprecationWarning: \u001b[1m\n",
      "Fall-back from the nopython compilation path to the object mode compilation path has been detected, this is deprecated behaviour.\n",
      "\n",
      "For more information visit https://numba.pydata.org/numba-doc/latest/reference/deprecation.html#deprecation-of-object-mode-fall-back-behaviour-when-using-jit\n",
      "\u001b[1m\n",
      "File \"<timed exec>\", line 5:\u001b[0m\n",
      "\u001b[1m<source missing, REPL/exec in use?>\u001b[0m\n",
      "\u001b[0m\n",
      "  warnings.warn(errors.NumbaDeprecationWarning(msg,\n"
     ]
    },
    {
     "name": "stdout",
     "output_type": "stream",
     "text": [
      "CPU times: user 3min 45s, sys: 1min 25s, total: 5min 11s\n",
      "Wall time: 5min 16s\n"
     ]
    }
   ],
   "source": [
    "%%time\n",
    "out = np.array(['start', 'end'], dtype='str')\n",
    "@numba.jit\n",
    "def test(x, y, out):   \n",
    "    \n",
    "    for i in x:\n",
    "        for j in y:\n",
    "            tmp = np.array([i, j])\n",
    "            out = np.concatenate((out, tmp), axis=0)  \n",
    "    return out\n",
    "\n",
    "x = list(range(1000))\n",
    "y = list(range(100))\n",
    "# out = np.array(['start', 'end'], dtype='str')\n",
    "out = test(x, y, out)"
   ]
  },
  {
   "cell_type": "code",
   "execution_count": 217,
   "metadata": {},
   "outputs": [
    {
     "data": {
      "text/plain": [
       "array([['start', 'end'],\n",
       "       ['0', '0'],\n",
       "       ['0', '1'],\n",
       "       ...,\n",
       "       ['999', '97'],\n",
       "       ['999', '98'],\n",
       "       ['999', '99']], dtype='<U21')"
      ]
     },
     "execution_count": 217,
     "metadata": {},
     "output_type": "execute_result"
    }
   ],
   "source": [
    "out.reshape(out.shape[0]//2, 2)"
   ]
  },
  {
   "cell_type": "code",
   "execution_count": 206,
   "metadata": {},
   "outputs": [
    {
     "data": {
      "text/plain": [
       "10001.0"
      ]
     },
     "execution_count": 206,
     "metadata": {},
     "output_type": "execute_result"
    }
   ],
   "source": [
    "out.shape[0]/2"
   ]
  },
  {
   "cell_type": "code",
   "execution_count": 143,
   "metadata": {},
   "outputs": [
    {
     "data": {
      "text/plain": [
       "500.0"
      ]
     },
     "execution_count": 143,
     "metadata": {},
     "output_type": "execute_result"
    }
   ],
   "source": [
    "out[5][100]"
   ]
  },
  {
   "cell_type": "code",
   "execution_count": 137,
   "metadata": {},
   "outputs": [
    {
     "name": "stderr",
     "output_type": "stream",
     "text": [
      "<timed exec>:1: NumbaWarning: \u001b[1m\n",
      "Compilation is falling back to object mode WITH looplifting enabled because Function \"test\" failed type inference due to: \u001b[1m\u001b[1mNo implementation of function Function(<built-in function setitem>) found for signature:\n",
      " \n",
      " >>> setitem(readonly array(float64, 1d, C), int64, int64)\n",
      " \n",
      "There are 16 candidate implementations:\n",
      "\u001b[1m      - Of which 14 did not match due to:\n",
      "      Overload of function 'setitem': File: <numerous>: Line N/A.\n",
      "        With argument(s): '(readonly array(float64, 1d, C), int64, int64)':\u001b[0m\n",
      "\u001b[1m       No match.\u001b[0m\n",
      "\u001b[1m      - Of which 2 did not match due to:\n",
      "      Overload in function 'SetItemBuffer.generic': File: numba/core/typing/arraydecl.py: Line 171.\n",
      "        With argument(s): '(readonly array(float64, 1d, C), int64, int64)':\u001b[0m\n",
      "\u001b[1m       Rejected as the implementation raised a specific error:\n",
      "         TypeError: Cannot modify value of type readonly array(float64, 1d, C)\u001b[0m\n",
      "  raised from /Users/jaycheng/venv/ws/lib/python3.8/site-packages/numba/core/typing/arraydecl.py:177\n",
      "\u001b[0m\n",
      "\u001b[0m\u001b[1mDuring: typing of setitem at <timed exec> (5)\u001b[0m\n",
      "\u001b[1m\n",
      "File \"<timed exec>\", line 5:\u001b[0m\n",
      "\u001b[1m<source missing, REPL/exec in use?>\u001b[0m\n",
      "\u001b[0m\n",
      "<timed exec>:1: NumbaWarning: \u001b[1m\n",
      "Compilation is falling back to object mode WITHOUT looplifting enabled because Function \"test\" failed type inference due to: \u001b[1m\u001b[1mcannot determine Numba type of <class 'numba.core.dispatcher.LiftedLoop'>\u001b[0m\n",
      "\u001b[1m\n",
      "File \"<timed exec>\", line 3:\u001b[0m\n",
      "\u001b[1m<source missing, REPL/exec in use?>\u001b[0m\n",
      "\u001b[0m\u001b[0m\n",
      "/Users/jaycheng/venv/ws/lib/python3.8/site-packages/numba/core/object_mode_passes.py:177: NumbaWarning: \u001b[1mFunction \"test\" was compiled in object mode without forceobj=True, but has lifted loops.\n",
      "\u001b[1m\n",
      "File \"<timed exec>\", line 3:\u001b[0m\n",
      "\u001b[1m<source missing, REPL/exec in use?>\u001b[0m\n",
      "\u001b[0m\n",
      "  warnings.warn(errors.NumbaWarning(warn_msg,\n",
      "/Users/jaycheng/venv/ws/lib/python3.8/site-packages/numba/core/object_mode_passes.py:187: NumbaDeprecationWarning: \u001b[1m\n",
      "Fall-back from the nopython compilation path to the object mode compilation path has been detected, this is deprecated behaviour.\n",
      "\n",
      "For more information visit https://numba.pydata.org/numba-doc/latest/reference/deprecation.html#deprecation-of-object-mode-fall-back-behaviour-when-using-jit\n",
      "\u001b[1m\n",
      "File \"<timed exec>\", line 3:\u001b[0m\n",
      "\u001b[1m<source missing, REPL/exec in use?>\u001b[0m\n",
      "\u001b[0m\n",
      "  warnings.warn(errors.NumbaDeprecationWarning(msg,\n",
      "<timed exec>:1: NumbaWarning: \u001b[1m\n",
      "Compilation is falling back to object mode WITHOUT looplifting enabled because Function \"test\" failed type inference due to: \u001b[1m\u001b[1mNo implementation of function Function(<built-in function setitem>) found for signature:\n",
      " \n",
      " >>> setitem(readonly array(float64, 1d, C), int64, int64)\n",
      " \n",
      "There are 16 candidate implementations:\n",
      "\u001b[1m      - Of which 14 did not match due to:\n",
      "      Overload of function 'setitem': File: <numerous>: Line N/A.\n",
      "        With argument(s): '(readonly array(float64, 1d, C), int64, int64)':\u001b[0m\n",
      "\u001b[1m       No match.\u001b[0m\n",
      "\u001b[1m      - Of which 2 did not match due to:\n",
      "      Overload in function 'SetItemBuffer.generic': File: numba/core/typing/arraydecl.py: Line 171.\n",
      "        With argument(s): '(readonly array(float64, 1d, C), int64, int64)':\u001b[0m\n",
      "\u001b[1m       Rejected as the implementation raised a specific error:\n",
      "         TypeError: Cannot modify value of type readonly array(float64, 1d, C)\u001b[0m\n",
      "  raised from /Users/jaycheng/venv/ws/lib/python3.8/site-packages/numba/core/typing/arraydecl.py:177\n",
      "\u001b[0m\n",
      "\u001b[0m\u001b[1mDuring: typing of setitem at <timed exec> (5)\u001b[0m\n",
      "\u001b[1m\n",
      "File \"<timed exec>\", line 5:\u001b[0m\n",
      "\u001b[1m<source missing, REPL/exec in use?>\u001b[0m\n",
      "\u001b[0m\n",
      "/Users/jaycheng/venv/ws/lib/python3.8/site-packages/numba/core/object_mode_passes.py:177: NumbaWarning: \u001b[1mFunction \"test\" was compiled in object mode without forceobj=True.\n",
      "\u001b[1m\n",
      "File \"<timed exec>\", line 3:\u001b[0m\n",
      "\u001b[1m<source missing, REPL/exec in use?>\u001b[0m\n",
      "\u001b[0m\n",
      "  warnings.warn(errors.NumbaWarning(warn_msg,\n",
      "/Users/jaycheng/venv/ws/lib/python3.8/site-packages/numba/core/object_mode_passes.py:187: NumbaDeprecationWarning: \u001b[1m\n",
      "Fall-back from the nopython compilation path to the object mode compilation path has been detected, this is deprecated behaviour.\n",
      "\n",
      "For more information visit https://numba.pydata.org/numba-doc/latest/reference/deprecation.html#deprecation-of-object-mode-fall-back-behaviour-when-using-jit\n",
      "\u001b[1m\n",
      "File \"<timed exec>\", line 3:\u001b[0m\n",
      "\u001b[1m<source missing, REPL/exec in use?>\u001b[0m\n",
      "\u001b[0m\n",
      "  warnings.warn(errors.NumbaDeprecationWarning(msg,\n"
     ]
    },
    {
     "name": "stdout",
     "output_type": "stream",
     "text": [
      "CPU times: user 43.4 s, sys: 509 ms, total: 43.9 s\n",
      "Wall time: 44.3 s\n"
     ]
    }
   ],
   "source": [
    "%%time\n",
    "@numba.jit(parallel=True)\n",
    "def test(x, y):\n",
    "    for i in x:\n",
    "        for j in y:\n",
    "            out[i][j] = i*j\n",
    "            \n",
    "x = list(range(1000))\n",
    "y = list(range(100))\n",
    "out = np.zeros([len(x), len(y)])\n",
    "test(x, y)"
   ]
  },
  {
   "cell_type": "code",
   "execution_count": 125,
   "metadata": {},
   "outputs": [
    {
     "data": {
      "text/plain": [
       "[0, 1, 2, 3, 4, 5, 6, 7, 8, 9]"
      ]
     },
     "execution_count": 125,
     "metadata": {},
     "output_type": "execute_result"
    }
   ],
   "source": [
    "list(range(10))\n"
   ]
  },
  {
   "cell_type": "code",
   "execution_count": 124,
   "metadata": {},
   "outputs": [
    {
     "data": {
      "text/plain": [
       "[range(0, 10)]"
      ]
     },
     "execution_count": 124,
     "metadata": {},
     "output_type": "execute_result"
    }
   ],
   "source": [
    "x"
   ]
  },
  {
   "cell_type": "code",
   "execution_count": 79,
   "metadata": {},
   "outputs": [],
   "source": [
    "# G.clear()"
   ]
  }
 ],
 "metadata": {
  "kernelspec": {
   "display_name": "Python 3",
   "language": "python",
   "name": "python3"
  },
  "language_info": {
   "codemirror_mode": {
    "name": "ipython",
    "version": 3
   },
   "file_extension": ".py",
   "mimetype": "text/x-python",
   "name": "python",
   "nbconvert_exporter": "python",
   "pygments_lexer": "ipython3",
   "version": "3.8.5"
  }
 },
 "nbformat": 4,
 "nbformat_minor": 4
}
