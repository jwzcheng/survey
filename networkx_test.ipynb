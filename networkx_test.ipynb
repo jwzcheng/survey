{
 "cells": [
  {
   "cell_type": "markdown",
   "metadata": {},
   "source": [
    "# Networkx"
   ]
  },
  {
   "cell_type": "code",
   "execution_count": 1,
   "metadata": {},
   "outputs": [
    {
     "ename": "ModuleNotFoundError",
     "evalue": "No module named 'networkx'",
     "output_type": "error",
     "traceback": [
      "\u001b[0;31m---------------------------------------------------------------------------\u001b[0m",
      "\u001b[0;31mModuleNotFoundError\u001b[0m                       Traceback (most recent call last)",
      "\u001b[0;32m<ipython-input-1-0b1bdb998c36>\u001b[0m in \u001b[0;36m<module>\u001b[0;34m\u001b[0m\n\u001b[0;32m----> 1\u001b[0;31m \u001b[0;32mimport\u001b[0m \u001b[0mnetworkx\u001b[0m \u001b[0;32mas\u001b[0m \u001b[0mnx\u001b[0m\u001b[0;34m\u001b[0m\u001b[0;34m\u001b[0m\u001b[0m\n\u001b[0m\u001b[1;32m      2\u001b[0m \u001b[0;32mimport\u001b[0m \u001b[0mnumba\u001b[0m\u001b[0;34m\u001b[0m\u001b[0;34m\u001b[0m\u001b[0m\n\u001b[1;32m      3\u001b[0m \u001b[0;32mimport\u001b[0m \u001b[0mnumpy\u001b[0m \u001b[0;32mas\u001b[0m \u001b[0mnp\u001b[0m\u001b[0;34m\u001b[0m\u001b[0;34m\u001b[0m\u001b[0m\n",
      "\u001b[0;31mModuleNotFoundError\u001b[0m: No module named 'networkx'"
     ]
    }
   ],
   "source": [
    "import networkx as nx\n",
    "import numba\n",
    "import numpy as np"
   ]
  },
  {
   "cell_type": "code",
   "execution_count": 81,
   "metadata": {},
   "outputs": [],
   "source": [
    "G = nx.Graph()\n",
    "\n",
    "edges = [\n",
    "    ('X', 'A', 7),\n",
    "    ('X', 'B', 2),\n",
    "    ('X', 'C', 3),\n",
    "    ('X', 'E', 4),\n",
    "    ('A', 'B', 3),\n",
    "    ('A', 'D', 4),\n",
    "    ('B', 'D', 4),\n",
    "    ('B', 'H', 5),\n",
    "    ('C', 'L', 2),\n",
    "    ('D', 'F', 1),\n",
    "    ('F', 'H', 3),\n",
    "    ('G', 'H', 2),\n",
    "    ('G', 'Y', 2),\n",
    "    ('I', 'J', 6),\n",
    "    ('I', 'K', 4),\n",
    "    ('I', 'L', 4),\n",
    "    ('J', 'L', 1),\n",
    "    ('K', 'Y', 5),\n",
    "]\n",
    "\n",
    "G.add_weighted_edges_from(edges)"
   ]
  },
  {
   "cell_type": "code",
   "execution_count": 82,
   "metadata": {},
   "outputs": [
    {
     "data": {
      "text/plain": [
       "11"
      ]
     },
     "execution_count": 82,
     "metadata": {},
     "output_type": "execute_result"
    }
   ],
   "source": [
    "nx.dijkstra_path_length(G, 'X', 'Y')"
   ]
  },
  {
   "cell_type": "code",
   "execution_count": 83,
   "metadata": {},
   "outputs": [
    {
     "data": {
      "text/plain": [
       "['X', 'A', 'B', 'C', 'E', 'D', 'H', 'L', 'F', 'G', 'Y', 'I', 'J', 'K']"
      ]
     },
     "execution_count": 83,
     "metadata": {},
     "output_type": "execute_result"
    }
   ],
   "source": [
    "list(G.nodes)"
   ]
  },
  {
   "cell_type": "code",
   "execution_count": 84,
   "metadata": {},
   "outputs": [
    {
     "data": {
      "text/plain": [
       "[('X', 'A'),\n",
       " ('X', 'B'),\n",
       " ('X', 'C'),\n",
       " ('X', 'E'),\n",
       " ('A', 'B'),\n",
       " ('A', 'D'),\n",
       " ('B', 'D'),\n",
       " ('B', 'H'),\n",
       " ('C', 'L'),\n",
       " ('D', 'F'),\n",
       " ('H', 'F'),\n",
       " ('H', 'G'),\n",
       " ('L', 'I'),\n",
       " ('L', 'J'),\n",
       " ('G', 'Y'),\n",
       " ('Y', 'K'),\n",
       " ('I', 'J'),\n",
       " ('I', 'K')]"
      ]
     },
     "execution_count": 84,
     "metadata": {},
     "output_type": "execute_result"
    }
   ],
   "source": [
    "list(G.edges)"
   ]
  },
  {
   "cell_type": "code",
   "execution_count": 85,
   "metadata": {},
   "outputs": [],
   "source": [
    "tmp = np.zeros([3,2])"
   ]
  },
  {
   "cell_type": "code",
   "execution_count": 86,
   "metadata": {},
   "outputs": [
    {
     "data": {
      "text/plain": [
       "array([[0., 0.],\n",
       "       [0., 0.],\n",
       "       [0., 0.]])"
      ]
     },
     "execution_count": 86,
     "metadata": {},
     "output_type": "execute_result"
    }
   ],
   "source": [
    "tmp"
   ]
  },
  {
   "cell_type": "code",
   "execution_count": 98,
   "metadata": {},
   "outputs": [],
   "source": [
    "def comp_shortest_path(G, start, end, out):\n",
    "    count = 0\n",
    "    for s in start:\n",
    "        for e in end:\n",
    "            out[count] = nx.dijkstra_path_length(G, s, e)\n",
    "            count+=1\n",
    "            \n",
    "start = list(G.nodes)\n",
    "end = list(G.nodes)\n",
    "out = np.zeros(len(start)*len(end))\n",
    "comp_shortest_path(G, start, end, out)"
   ]
  },
  {
   "cell_type": "code",
   "execution_count": 99,
   "metadata": {},
   "outputs": [
    {
     "data": {
      "text/plain": [
       "array([ 0.,  5.,  2.,  3.,  4.,  6.,  7.,  5.,  7.,  9., 11.,  9.,  6.,\n",
       "       13.,  5.,  0.,  3.,  8.,  9.,  4.,  8., 10.,  5., 10., 12., 14.,\n",
       "       11., 17.,  2.,  3.,  0.,  5.,  6.,  4.,  5.,  7.,  5.,  7.,  9.,\n",
       "       11.,  8., 14.,  3.,  8.,  5.,  0.,  7.,  9., 10.,  2., 10., 12.,\n",
       "       14.,  6.,  3., 10.,  4.,  9.,  6.,  7.,  0., 10., 11.,  9., 11.,\n",
       "       13., 15., 13., 10., 17.,  6.,  4.,  4.,  9., 10.,  0.,  4., 11.,\n",
       "        1.,  6.,  8., 15., 12., 13.,  7.,  8.,  5., 10., 11.,  4.,  0.,\n",
       "       12.,  3.,  2.,  4., 13., 13.,  9.,  5., 10.,  7.,  2.,  9., 11.,\n",
       "       12.,  0., 12., 14., 13.,  4.,  1.,  8.,  7.,  5.,  5., 10., 11.,\n",
       "        1.,  3., 12.,  0.,  5.,  7., 16., 13., 12.,  9., 10.,  7., 12.,\n",
       "       13.,  6.,  2., 14.,  5.,  0.,  2., 11., 15.,  7., 11., 12.,  9.,\n",
       "       14., 15.,  8.,  4., 13.,  7.,  2.,  0.,  9., 14.,  5.,  9., 14.,\n",
       "       11.,  6., 13., 15., 13.,  4., 16., 11.,  9.,  0.,  5.,  4.,  6.,\n",
       "       11.,  8.,  3., 10., 12., 13.,  1., 13., 15., 14.,  5.,  0.,  9.,\n",
       "       13., 17., 14., 10., 17., 13.,  9.,  8., 12.,  7.,  5.,  4.,  9.,\n",
       "        0.])"
      ]
     },
     "execution_count": 99,
     "metadata": {},
     "output_type": "execute_result"
    }
   ],
   "source": [
    "out"
   ]
  },
  {
   "cell_type": "code",
   "execution_count": 104,
   "metadata": {
    "collapsed": true,
    "jupyter": {
     "outputs_hidden": true
    }
   },
   "outputs": [
    {
     "name": "stderr",
     "output_type": "stream",
     "text": [
      "<ipython-input-104-77b730060be7>:1: NumbaWarning: \u001b[1m\n",
      "Compilation is falling back to object mode WITH looplifting enabled because Function \"pair_shortest_path\" failed type inference due to: \u001b[1m\u001b[1mnon-precise type pyobject\u001b[0m\n",
      "\u001b[0m\u001b[1mDuring: typing of argument at <ipython-input-104-77b730060be7> (3)\u001b[0m\n",
      "\u001b[1m\n",
      "File \"<ipython-input-104-77b730060be7>\", line 3:\u001b[0m\n",
      "\u001b[1mdef pair_shortest_path(G, start, end, out):\n",
      "\u001b[1m    for s in range(len(start)):\n",
      "\u001b[0m    \u001b[1m^\u001b[0m\u001b[0m\n",
      "\u001b[0m\n",
      "  @numba.jit\n",
      "<ipython-input-104-77b730060be7>:1: NumbaWarning: \u001b[1m\n",
      "Compilation is falling back to object mode WITHOUT looplifting enabled because Function \"pair_shortest_path\" failed type inference due to: \u001b[1m\u001b[1mcannot determine Numba type of <class 'numba.core.dispatcher.LiftedLoop'>\u001b[0m\n",
      "\u001b[1m\n",
      "File \"<ipython-input-104-77b730060be7>\", line 3:\u001b[0m\n",
      "\u001b[1mdef pair_shortest_path(G, start, end, out):\n",
      "\u001b[1m    for s in range(len(start)):\n",
      "\u001b[0m    \u001b[1m^\u001b[0m\u001b[0m\n",
      "\u001b[0m\u001b[0m\n",
      "  @numba.jit\n",
      "/Users/jaycheng/venv/ws/lib/python3.8/site-packages/numba/core/object_mode_passes.py:177: NumbaWarning: \u001b[1mFunction \"pair_shortest_path\" was compiled in object mode without forceobj=True, but has lifted loops.\n",
      "\u001b[1m\n",
      "File \"<ipython-input-104-77b730060be7>\", line 3:\u001b[0m\n",
      "\u001b[1mdef pair_shortest_path(G, start, end, out):\n",
      "\u001b[1m    for s in range(len(start)):\n",
      "\u001b[0m    \u001b[1m^\u001b[0m\u001b[0m\n",
      "\u001b[0m\n",
      "  warnings.warn(errors.NumbaWarning(warn_msg,\n",
      "/Users/jaycheng/venv/ws/lib/python3.8/site-packages/numba/core/object_mode_passes.py:187: NumbaDeprecationWarning: \u001b[1m\n",
      "Fall-back from the nopython compilation path to the object mode compilation path has been detected, this is deprecated behaviour.\n",
      "\n",
      "For more information visit https://numba.pydata.org/numba-doc/latest/reference/deprecation.html#deprecation-of-object-mode-fall-back-behaviour-when-using-jit\n",
      "\u001b[1m\n",
      "File \"<ipython-input-104-77b730060be7>\", line 3:\u001b[0m\n",
      "\u001b[1mdef pair_shortest_path(G, start, end, out):\n",
      "\u001b[1m    for s in range(len(start)):\n",
      "\u001b[0m    \u001b[1m^\u001b[0m\u001b[0m\n",
      "\u001b[0m\n",
      "  warnings.warn(errors.NumbaDeprecationWarning(msg,\n",
      "<ipython-input-104-77b730060be7>:1: NumbaWarning: \u001b[1m\n",
      "Compilation is falling back to object mode WITHOUT looplifting enabled because Function \"pair_shortest_path\" failed type inference due to: \u001b[1m\u001b[1mNo implementation of function Function(<built-in function setitem>) found for signature:\n",
      " \n",
      " >>> setitem(array([unichr x 1], 1d, C), int64, list(unicode_type)<iv=None>)\n",
      " \n",
      "There are 16 candidate implementations:\n",
      "\u001b[1m      - Of which 16 did not match due to:\n",
      "      Overload of function 'setitem': File: <numerous>: Line N/A.\n",
      "        With argument(s): '(array([unichr x 1], 1d, C), int64, list(unicode_type)<iv=None>)':\u001b[0m\n",
      "\u001b[1m       No match.\u001b[0m\n",
      "\u001b[0m\n",
      "\u001b[0m\u001b[1mDuring: typing of setitem at <ipython-input-104-77b730060be7> (5)\u001b[0m\n",
      "\u001b[1m\n",
      "File \"<ipython-input-104-77b730060be7>\", line 5:\u001b[0m\n",
      "\u001b[1mdef pair_shortest_path(G, start, end, out):\n",
      "    <source elided>\n",
      "        for e in range(len(end)):\n",
      "\u001b[1m            out[s][e] = [start[s], end[e]]\n",
      "\u001b[0m            \u001b[1m^\u001b[0m\u001b[0m\n",
      "\u001b[0m\n",
      "  @numba.jit\n",
      "/Users/jaycheng/venv/ws/lib/python3.8/site-packages/numba/core/object_mode_passes.py:177: NumbaWarning: \u001b[1mFunction \"pair_shortest_path\" was compiled in object mode without forceobj=True.\n",
      "\u001b[1m\n",
      "File \"<ipython-input-104-77b730060be7>\", line 3:\u001b[0m\n",
      "\u001b[1mdef pair_shortest_path(G, start, end, out):\n",
      "\u001b[1m    for s in range(len(start)):\n",
      "\u001b[0m    \u001b[1m^\u001b[0m\u001b[0m\n",
      "\u001b[0m\n",
      "  warnings.warn(errors.NumbaWarning(warn_msg,\n",
      "/Users/jaycheng/venv/ws/lib/python3.8/site-packages/numba/core/object_mode_passes.py:187: NumbaDeprecationWarning: \u001b[1m\n",
      "Fall-back from the nopython compilation path to the object mode compilation path has been detected, this is deprecated behaviour.\n",
      "\n",
      "For more information visit https://numba.pydata.org/numba-doc/latest/reference/deprecation.html#deprecation-of-object-mode-fall-back-behaviour-when-using-jit\n",
      "\u001b[1m\n",
      "File \"<ipython-input-104-77b730060be7>\", line 3:\u001b[0m\n",
      "\u001b[1mdef pair_shortest_path(G, start, end, out):\n",
      "\u001b[1m    for s in range(len(start)):\n",
      "\u001b[0m    \u001b[1m^\u001b[0m\u001b[0m\n",
      "\u001b[0m\n",
      "  warnings.warn(errors.NumbaDeprecationWarning(msg,\n"
     ]
    },
    {
     "ename": "ValueError",
     "evalue": "setting an array element with a sequence",
     "output_type": "error",
     "traceback": [
      "\u001b[0;31m---------------------------------------------------------------------------\u001b[0m",
      "\u001b[0;31mValueError\u001b[0m                                Traceback (most recent call last)",
      "\u001b[0;32m<ipython-input-104-77b730060be7>\u001b[0m in \u001b[0;36m<module>\u001b[0;34m\u001b[0m\n\u001b[1;32m      9\u001b[0m \u001b[0mend\u001b[0m \u001b[0;34m=\u001b[0m \u001b[0mlist\u001b[0m\u001b[0;34m(\u001b[0m\u001b[0mG\u001b[0m\u001b[0;34m.\u001b[0m\u001b[0mnodes\u001b[0m\u001b[0;34m)\u001b[0m\u001b[0;34m\u001b[0m\u001b[0;34m\u001b[0m\u001b[0m\n\u001b[1;32m     10\u001b[0m \u001b[0mpair\u001b[0m \u001b[0;34m=\u001b[0m \u001b[0mnp\u001b[0m\u001b[0;34m.\u001b[0m\u001b[0mzeros\u001b[0m\u001b[0;34m(\u001b[0m\u001b[0;34m[\u001b[0m\u001b[0mlen\u001b[0m\u001b[0;34m(\u001b[0m\u001b[0mstart\u001b[0m\u001b[0;34m)\u001b[0m\u001b[0;34m,\u001b[0m \u001b[0mlen\u001b[0m\u001b[0;34m(\u001b[0m\u001b[0mend\u001b[0m\u001b[0;34m)\u001b[0m\u001b[0;34m]\u001b[0m\u001b[0;34m,\u001b[0m \u001b[0mdtype\u001b[0m\u001b[0;34m=\u001b[0m\u001b[0;34m'str'\u001b[0m\u001b[0;34m)\u001b[0m\u001b[0;34m\u001b[0m\u001b[0;34m\u001b[0m\u001b[0m\n\u001b[0;32m---> 11\u001b[0;31m \u001b[0mpair_shortest_path\u001b[0m\u001b[0;34m(\u001b[0m\u001b[0mG\u001b[0m\u001b[0;34m,\u001b[0m \u001b[0mstart\u001b[0m\u001b[0;34m,\u001b[0m \u001b[0mend\u001b[0m\u001b[0;34m,\u001b[0m \u001b[0mpair\u001b[0m\u001b[0;34m)\u001b[0m\u001b[0;34m\u001b[0m\u001b[0;34m\u001b[0m\u001b[0m\n\u001b[0m",
      "\u001b[0;31mValueError\u001b[0m: setting an array element with a sequence"
     ]
    }
   ],
   "source": [
    "@numba.jit\n",
    "def pair_shortest_path(G, start, end, out):\n",
    "    for s in range(len(start)):\n",
    "        for e in range(len(end)):\n",
    "            out[s][e] = [start[s], end[e]]\n",
    "            \n",
    "            \n",
    "start = list(G.nodes)\n",
    "end = list(G.nodes)\n",
    "pair = np.zeros([len(start), len(end)], dtype='str')\n",
    "pair_shortest_path(G, start, end, pair)"
   ]
  },
  {
   "cell_type": "code",
   "execution_count": 4,
   "metadata": {},
   "outputs": [
    {
     "name": "stderr",
     "output_type": "stream",
     "text": [
      "<timed exec>:2: NumbaWarning: \u001b[1m\n",
      "Compilation is falling back to object mode WITH looplifting enabled because Function \"test\" failed type inference due to: \u001b[1m\u001b[1m\u001b[1mNo implementation of function Function(<function concatenate at 0x1074449d0>) found for signature:\n",
      " \n",
      " >>> concatenate(Tuple(array([unichr x 5], 1d, C), array(int64, 1d, C)), axis=Literal[int](0))\n",
      " \n",
      "There are 2 candidate implementations:\n",
      "\u001b[1m      - Of which 2 did not match due to:\n",
      "      Overload in function 'concatenate': File: numba/core/typing/npydecl.py: Line 789.\n",
      "        With argument(s): '(Tuple(array([unichr x 5], 1d, C), array(int64, 1d, C)), axis=int64)':\u001b[0m\n",
      "\u001b[1m       Rejected as the implementation raised a specific error:\n",
      "         TypeError: np.concatenate(): input arrays must have compatible dtypes\u001b[0m\n",
      "  raised from /Users/jaycheng/venv/ws/lib/python3.8/site-packages/numba/core/typing/npydecl.py:772\n",
      "\u001b[0m\n",
      "\u001b[0m\u001b[1mDuring: resolving callee type: Function(<function concatenate at 0x1074449d0>)\u001b[0m\n",
      "\u001b[0m\u001b[1mDuring: typing of call at <timed exec> (8)\n",
      "\u001b[0m\n",
      "\u001b[1m\n",
      "File \"<timed exec>\", line 8:\u001b[0m\n",
      "\u001b[1m<source missing, REPL/exec in use?>\u001b[0m\n",
      "\u001b[0m\n",
      "<timed exec>:2: NumbaWarning: \u001b[1m\n",
      "Compilation is falling back to object mode WITHOUT looplifting enabled because Function \"test\" failed type inference due to: \u001b[1m\u001b[1mcannot determine Numba type of <class 'numba.core.dispatcher.LiftedLoop'>\u001b[0m\n",
      "\u001b[1m\n",
      "File \"<timed exec>\", line 5:\u001b[0m\n",
      "\u001b[1m<source missing, REPL/exec in use?>\u001b[0m\n",
      "\u001b[0m\u001b[0m\n",
      "/Users/jaycheng/venv/ws/lib/python3.8/site-packages/numba/core/object_mode_passes.py:177: NumbaWarning: \u001b[1mFunction \"test\" was compiled in object mode without forceobj=True, but has lifted loops.\n",
      "\u001b[1m\n",
      "File \"<timed exec>\", line 5:\u001b[0m\n",
      "\u001b[1m<source missing, REPL/exec in use?>\u001b[0m\n",
      "\u001b[0m\n",
      "  warnings.warn(errors.NumbaWarning(warn_msg,\n",
      "/Users/jaycheng/venv/ws/lib/python3.8/site-packages/numba/core/object_mode_passes.py:187: NumbaDeprecationWarning: \u001b[1m\n",
      "Fall-back from the nopython compilation path to the object mode compilation path has been detected, this is deprecated behaviour.\n",
      "\n",
      "For more information visit https://numba.pydata.org/numba-doc/latest/reference/deprecation.html#deprecation-of-object-mode-fall-back-behaviour-when-using-jit\n",
      "\u001b[1m\n",
      "File \"<timed exec>\", line 5:\u001b[0m\n",
      "\u001b[1m<source missing, REPL/exec in use?>\u001b[0m\n",
      "\u001b[0m\n",
      "  warnings.warn(errors.NumbaDeprecationWarning(msg,\n",
      "<timed exec>:2: NumbaWarning: \u001b[1m\n",
      "Compilation is falling back to object mode WITHOUT looplifting enabled because Function \"test\" failed type inference due to: \u001b[1m\u001b[1m\u001b[1mNo implementation of function Function(<function concatenate at 0x1074449d0>) found for signature:\n",
      " \n",
      " >>> concatenate(Tuple(array([unichr x 5], 1d, C), array(int64, 1d, C)), axis=Literal[int](0))\n",
      " \n",
      "There are 2 candidate implementations:\n",
      "\u001b[1m      - Of which 2 did not match due to:\n",
      "      Overload in function 'concatenate': File: numba/core/typing/npydecl.py: Line 789.\n",
      "        With argument(s): '(Tuple(array([unichr x 5], 1d, C), array(int64, 1d, C)), axis=int64)':\u001b[0m\n",
      "\u001b[1m       Rejected as the implementation raised a specific error:\n",
      "         TypeError: np.concatenate(): input arrays must have compatible dtypes\u001b[0m\n",
      "  raised from /Users/jaycheng/venv/ws/lib/python3.8/site-packages/numba/core/typing/npydecl.py:772\n",
      "\u001b[0m\n",
      "\u001b[0m\u001b[1mDuring: resolving callee type: Function(<function concatenate at 0x1074449d0>)\u001b[0m\n",
      "\u001b[0m\u001b[1mDuring: typing of call at <timed exec> (8)\n",
      "\u001b[0m\n",
      "\u001b[1m\n",
      "File \"<timed exec>\", line 8:\u001b[0m\n",
      "\u001b[1m<source missing, REPL/exec in use?>\u001b[0m\n",
      "\u001b[0m\n",
      "/Users/jaycheng/venv/ws/lib/python3.8/site-packages/numba/core/object_mode_passes.py:177: NumbaWarning: \u001b[1mFunction \"test\" was compiled in object mode without forceobj=True.\n",
      "\u001b[1m\n",
      "File \"<timed exec>\", line 5:\u001b[0m\n",
      "\u001b[1m<source missing, REPL/exec in use?>\u001b[0m\n",
      "\u001b[0m\n",
      "  warnings.warn(errors.NumbaWarning(warn_msg,\n",
      "/Users/jaycheng/venv/ws/lib/python3.8/site-packages/numba/core/object_mode_passes.py:187: NumbaDeprecationWarning: \u001b[1m\n",
      "Fall-back from the nopython compilation path to the object mode compilation path has been detected, this is deprecated behaviour.\n",
      "\n",
      "For more information visit https://numba.pydata.org/numba-doc/latest/reference/deprecation.html#deprecation-of-object-mode-fall-back-behaviour-when-using-jit\n",
      "\u001b[1m\n",
      "File \"<timed exec>\", line 5:\u001b[0m\n",
      "\u001b[1m<source missing, REPL/exec in use?>\u001b[0m\n",
      "\u001b[0m\n",
      "  warnings.warn(errors.NumbaDeprecationWarning(msg,\n"
     ]
    },
    {
     "name": "stdout",
     "output_type": "stream",
     "text": [
      "CPU times: user 3min 45s, sys: 1min 25s, total: 5min 11s\n",
      "Wall time: 5min 16s\n"
     ]
    }
   ],
   "source": [
    "%%time\n",
    "out = np.array(['start', 'end'], dtype='str')\n",
    "@numba.jit\n",
    "def test(x, y, out):   \n",
    "    \n",
    "    for i in x:\n",
    "        for j in y:\n",
    "            tmp = np.array([i, j])\n",
    "            out = np.concatenate((out, tmp), axis=0)  \n",
    "    return out\n",
    "\n",
    "x = list(range(1000))\n",
    "y = list(range(100))\n",
    "# out = np.array(['start', 'end'], dtype='str')\n",
    "out = test(x, y, out)"
   ]
  },
  {
   "cell_type": "code",
   "execution_count": 217,
   "metadata": {},
   "outputs": [
    {
     "data": {
      "text/plain": [
       "array([['start', 'end'],\n",
       "       ['0', '0'],\n",
       "       ['0', '1'],\n",
       "       ...,\n",
       "       ['999', '97'],\n",
       "       ['999', '98'],\n",
       "       ['999', '99']], dtype='<U21')"
      ]
     },
     "execution_count": 217,
     "metadata": {},
     "output_type": "execute_result"
    }
   ],
   "source": [
    "out.reshape(out.shape[0]//2, 2)"
   ]
  },
  {
   "cell_type": "code",
   "execution_count": 206,
   "metadata": {},
   "outputs": [
    {
     "data": {
      "text/plain": [
       "10001.0"
      ]
     },
     "execution_count": 206,
     "metadata": {},
     "output_type": "execute_result"
    }
   ],
   "source": [
    "out.shape[0]/2"
   ]
  },
  {
   "cell_type": "code",
   "execution_count": 143,
   "metadata": {},
   "outputs": [
    {
     "data": {
      "text/plain": [
       "500.0"
      ]
     },
     "execution_count": 143,
     "metadata": {},
     "output_type": "execute_result"
    }
   ],
   "source": [
    "out[5][100]"
   ]
  },
  {
   "cell_type": "code",
   "execution_count": 137,
   "metadata": {},
   "outputs": [
    {
     "name": "stderr",
     "output_type": "stream",
     "text": [
      "<timed exec>:1: NumbaWarning: \u001b[1m\n",
      "Compilation is falling back to object mode WITH looplifting enabled because Function \"test\" failed type inference due to: \u001b[1m\u001b[1mNo implementation of function Function(<built-in function setitem>) found for signature:\n",
      " \n",
      " >>> setitem(readonly array(float64, 1d, C), int64, int64)\n",
      " \n",
      "There are 16 candidate implementations:\n",
      "\u001b[1m      - Of which 14 did not match due to:\n",
      "      Overload of function 'setitem': File: <numerous>: Line N/A.\n",
      "        With argument(s): '(readonly array(float64, 1d, C), int64, int64)':\u001b[0m\n",
      "\u001b[1m       No match.\u001b[0m\n",
      "\u001b[1m      - Of which 2 did not match due to:\n",
      "      Overload in function 'SetItemBuffer.generic': File: numba/core/typing/arraydecl.py: Line 171.\n",
      "        With argument(s): '(readonly array(float64, 1d, C), int64, int64)':\u001b[0m\n",
      "\u001b[1m       Rejected as the implementation raised a specific error:\n",
      "         TypeError: Cannot modify value of type readonly array(float64, 1d, C)\u001b[0m\n",
      "  raised from /Users/jaycheng/venv/ws/lib/python3.8/site-packages/numba/core/typing/arraydecl.py:177\n",
      "\u001b[0m\n",
      "\u001b[0m\u001b[1mDuring: typing of setitem at <timed exec> (5)\u001b[0m\n",
      "\u001b[1m\n",
      "File \"<timed exec>\", line 5:\u001b[0m\n",
      "\u001b[1m<source missing, REPL/exec in use?>\u001b[0m\n",
      "\u001b[0m\n",
      "<timed exec>:1: NumbaWarning: \u001b[1m\n",
      "Compilation is falling back to object mode WITHOUT looplifting enabled because Function \"test\" failed type inference due to: \u001b[1m\u001b[1mcannot determine Numba type of <class 'numba.core.dispatcher.LiftedLoop'>\u001b[0m\n",
      "\u001b[1m\n",
      "File \"<timed exec>\", line 3:\u001b[0m\n",
      "\u001b[1m<source missing, REPL/exec in use?>\u001b[0m\n",
      "\u001b[0m\u001b[0m\n",
      "/Users/jaycheng/venv/ws/lib/python3.8/site-packages/numba/core/object_mode_passes.py:177: NumbaWarning: \u001b[1mFunction \"test\" was compiled in object mode without forceobj=True, but has lifted loops.\n",
      "\u001b[1m\n",
      "File \"<timed exec>\", line 3:\u001b[0m\n",
      "\u001b[1m<source missing, REPL/exec in use?>\u001b[0m\n",
      "\u001b[0m\n",
      "  warnings.warn(errors.NumbaWarning(warn_msg,\n",
      "/Users/jaycheng/venv/ws/lib/python3.8/site-packages/numba/core/object_mode_passes.py:187: NumbaDeprecationWarning: \u001b[1m\n",
      "Fall-back from the nopython compilation path to the object mode compilation path has been detected, this is deprecated behaviour.\n",
      "\n",
      "For more information visit https://numba.pydata.org/numba-doc/latest/reference/deprecation.html#deprecation-of-object-mode-fall-back-behaviour-when-using-jit\n",
      "\u001b[1m\n",
      "File \"<timed exec>\", line 3:\u001b[0m\n",
      "\u001b[1m<source missing, REPL/exec in use?>\u001b[0m\n",
      "\u001b[0m\n",
      "  warnings.warn(errors.NumbaDeprecationWarning(msg,\n",
      "<timed exec>:1: NumbaWarning: \u001b[1m\n",
      "Compilation is falling back to object mode WITHOUT looplifting enabled because Function \"test\" failed type inference due to: \u001b[1m\u001b[1mNo implementation of function Function(<built-in function setitem>) found for signature:\n",
      " \n",
      " >>> setitem(readonly array(float64, 1d, C), int64, int64)\n",
      " \n",
      "There are 16 candidate implementations:\n",
      "\u001b[1m      - Of which 14 did not match due to:\n",
      "      Overload of function 'setitem': File: <numerous>: Line N/A.\n",
      "        With argument(s): '(readonly array(float64, 1d, C), int64, int64)':\u001b[0m\n",
      "\u001b[1m       No match.\u001b[0m\n",
      "\u001b[1m      - Of which 2 did not match due to:\n",
      "      Overload in function 'SetItemBuffer.generic': File: numba/core/typing/arraydecl.py: Line 171.\n",
      "        With argument(s): '(readonly array(float64, 1d, C), int64, int64)':\u001b[0m\n",
      "\u001b[1m       Rejected as the implementation raised a specific error:\n",
      "         TypeError: Cannot modify value of type readonly array(float64, 1d, C)\u001b[0m\n",
      "  raised from /Users/jaycheng/venv/ws/lib/python3.8/site-packages/numba/core/typing/arraydecl.py:177\n",
      "\u001b[0m\n",
      "\u001b[0m\u001b[1mDuring: typing of setitem at <timed exec> (5)\u001b[0m\n",
      "\u001b[1m\n",
      "File \"<timed exec>\", line 5:\u001b[0m\n",
      "\u001b[1m<source missing, REPL/exec in use?>\u001b[0m\n",
      "\u001b[0m\n",
      "/Users/jaycheng/venv/ws/lib/python3.8/site-packages/numba/core/object_mode_passes.py:177: NumbaWarning: \u001b[1mFunction \"test\" was compiled in object mode without forceobj=True.\n",
      "\u001b[1m\n",
      "File \"<timed exec>\", line 3:\u001b[0m\n",
      "\u001b[1m<source missing, REPL/exec in use?>\u001b[0m\n",
      "\u001b[0m\n",
      "  warnings.warn(errors.NumbaWarning(warn_msg,\n",
      "/Users/jaycheng/venv/ws/lib/python3.8/site-packages/numba/core/object_mode_passes.py:187: NumbaDeprecationWarning: \u001b[1m\n",
      "Fall-back from the nopython compilation path to the object mode compilation path has been detected, this is deprecated behaviour.\n",
      "\n",
      "For more information visit https://numba.pydata.org/numba-doc/latest/reference/deprecation.html#deprecation-of-object-mode-fall-back-behaviour-when-using-jit\n",
      "\u001b[1m\n",
      "File \"<timed exec>\", line 3:\u001b[0m\n",
      "\u001b[1m<source missing, REPL/exec in use?>\u001b[0m\n",
      "\u001b[0m\n",
      "  warnings.warn(errors.NumbaDeprecationWarning(msg,\n"
     ]
    },
    {
     "name": "stdout",
     "output_type": "stream",
     "text": [
      "CPU times: user 43.4 s, sys: 509 ms, total: 43.9 s\n",
      "Wall time: 44.3 s\n"
     ]
    }
   ],
   "source": [
    "%%time\n",
    "@numba.jit(parallel=True)\n",
    "def test(x, y):\n",
    "    for i in x:\n",
    "        for j in y:\n",
    "            out[i][j] = i*j\n",
    "            \n",
    "x = list(range(1000))\n",
    "y = list(range(100))\n",
    "out = np.zeros([len(x), len(y)])\n",
    "test(x, y)"
   ]
  },
  {
   "cell_type": "code",
   "execution_count": 125,
   "metadata": {},
   "outputs": [
    {
     "data": {
      "text/plain": [
       "[0, 1, 2, 3, 4, 5, 6, 7, 8, 9]"
      ]
     },
     "execution_count": 125,
     "metadata": {},
     "output_type": "execute_result"
    }
   ],
   "source": [
    "list(range(10))\n"
   ]
  },
  {
   "cell_type": "code",
   "execution_count": 124,
   "metadata": {},
   "outputs": [
    {
     "data": {
      "text/plain": [
       "[range(0, 10)]"
      ]
     },
     "execution_count": 124,
     "metadata": {},
     "output_type": "execute_result"
    }
   ],
   "source": [
    "x"
   ]
  },
  {
   "cell_type": "code",
   "execution_count": 79,
   "metadata": {},
   "outputs": [],
   "source": [
    "# G.clear()"
   ]
  }
 ],
 "metadata": {
  "kernelspec": {
   "display_name": "Python 3",
   "language": "python",
   "name": "python3"
  },
  "language_info": {
   "codemirror_mode": {
    "name": "ipython",
    "version": 3
   },
   "file_extension": ".py",
   "mimetype": "text/x-python",
   "name": "python",
   "nbconvert_exporter": "python",
   "pygments_lexer": "ipython3",
   "version": "3.8.5"
  }
 },
 "nbformat": 4,
 "nbformat_minor": 4
}
