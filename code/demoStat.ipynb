{
 "cells": [
  {
   "cell_type": "markdown",
   "metadata": {},
   "source": [
    "# 敘述統計\n",
    "\n",
    "應用 pandas 套件來對資料做初步的了解.\n",
    "1.讀取資料\n",
    "2.敘述統計表, 了解變數型態(屬質or量, 質變數可再分名目變數、順序變數, 量變數可再分連續型、離散型)\n",
    "3.轉換變數至正確型態\n",
    "4.繪圖"
   ]
  },
  {
   "cell_type": "markdown",
   "metadata": {},
   "source": [
    "### 1229 revised\n",
    "1.可用來觀察類別變數中，各類別的次數\n",
    ".value_counts()\n",
    "\n",
    "2.seaborn package for plot\n",
    "Please refer to https://seaborn.pydata.org/api.html"
   ]
  },
  {
   "cell_type": "code",
   "execution_count": 1,
   "metadata": {
    "collapsed": true
   },
   "outputs": [],
   "source": [
    "import pandas as pd"
   ]
  },
  {
   "cell_type": "code",
   "execution_count": 2,
   "metadata": {
    "scrolled": true
   },
   "outputs": [
    {
     "data": {
      "text/html": [
       "<div>\n",
       "<style scoped>\n",
       "    .dataframe tbody tr th:only-of-type {\n",
       "        vertical-align: middle;\n",
       "    }\n",
       "\n",
       "    .dataframe tbody tr th {\n",
       "        vertical-align: top;\n",
       "    }\n",
       "\n",
       "    .dataframe thead th {\n",
       "        text-align: right;\n",
       "    }\n",
       "</style>\n",
       "<table border=\"1\" class=\"dataframe\">\n",
       "  <thead>\n",
       "    <tr style=\"text-align: right;\">\n",
       "      <th></th>\n",
       "      <th>msno</th>\n",
       "      <th>city</th>\n",
       "      <th>bd</th>\n",
       "      <th>gender</th>\n",
       "      <th>registered_via</th>\n",
       "      <th>registration_init_time</th>\n",
       "      <th>is_churn</th>\n",
       "    </tr>\n",
       "  </thead>\n",
       "  <tbody>\n",
       "    <tr>\n",
       "      <th>0</th>\n",
       "      <td>+++l/EXNMLTijfLBa8p2TUVVVp2aFGSuUI/h7mLmthw=</td>\n",
       "      <td>15</td>\n",
       "      <td>26</td>\n",
       "      <td>male</td>\n",
       "      <td>9</td>\n",
       "      <td>20101118</td>\n",
       "      <td>0</td>\n",
       "    </tr>\n",
       "    <tr>\n",
       "      <th>1</th>\n",
       "      <td>++/9R3sX37CjxbY/AaGvbwr3QkwElKBCtSvVzhCBDOk=</td>\n",
       "      <td>18</td>\n",
       "      <td>21</td>\n",
       "      <td>male</td>\n",
       "      <td>7</td>\n",
       "      <td>20160315</td>\n",
       "      <td>0</td>\n",
       "    </tr>\n",
       "    <tr>\n",
       "      <th>2</th>\n",
       "      <td>++/UDNo9DLrxT8QVGiDi1OnWfczAdEwThaVyD0fXO50=</td>\n",
       "      <td>22</td>\n",
       "      <td>32</td>\n",
       "      <td>male</td>\n",
       "      <td>9</td>\n",
       "      <td>20120122</td>\n",
       "      <td>0</td>\n",
       "    </tr>\n",
       "    <tr>\n",
       "      <th>3</th>\n",
       "      <td>++/ZHqwUNa7U21Qz+zqteiXlZapxey86l6eEorrak/g=</td>\n",
       "      <td>13</td>\n",
       "      <td>39</td>\n",
       "      <td>male</td>\n",
       "      <td>3</td>\n",
       "      <td>20140421</td>\n",
       "      <td>0</td>\n",
       "    </tr>\n",
       "    <tr>\n",
       "      <th>4</th>\n",
       "      <td>++3Z+W8OPnpbHYfrKwqRKN1bF83XEbxjdYUolhGdHZg=</td>\n",
       "      <td>5</td>\n",
       "      <td>35</td>\n",
       "      <td>female</td>\n",
       "      <td>7</td>\n",
       "      <td>20120209</td>\n",
       "      <td>0</td>\n",
       "    </tr>\n",
       "    <tr>\n",
       "      <th>5</th>\n",
       "      <td>++4cUL0b9CfW8cj0A/wfSxQc4k4fcVtWcLqk2UOdpKs=</td>\n",
       "      <td>15</td>\n",
       "      <td>28</td>\n",
       "      <td>male</td>\n",
       "      <td>7</td>\n",
       "      <td>20121009</td>\n",
       "      <td>0</td>\n",
       "    </tr>\n",
       "    <tr>\n",
       "      <th>6</th>\n",
       "      <td>++5wYjoMgQHoRuD3GbbvmphZbBBwymzv5Q4l8sywtuU=</td>\n",
       "      <td>13</td>\n",
       "      <td>39</td>\n",
       "      <td>male</td>\n",
       "      <td>9</td>\n",
       "      <td>20060218</td>\n",
       "      <td>0</td>\n",
       "    </tr>\n",
       "    <tr>\n",
       "      <th>7</th>\n",
       "      <td>++6P09mCSJSh+Ft2pvZ0FWTrtcI3v1A7h3/coh8dBKw=</td>\n",
       "      <td>22</td>\n",
       "      <td>35</td>\n",
       "      <td>male</td>\n",
       "      <td>9</td>\n",
       "      <td>20100921</td>\n",
       "      <td>0</td>\n",
       "    </tr>\n",
       "    <tr>\n",
       "      <th>8</th>\n",
       "      <td>++7IULiyKbNc8jllqhRuyKZjX1J4mPF4tsudFCJfv4k=</td>\n",
       "      <td>5</td>\n",
       "      <td>38</td>\n",
       "      <td>female</td>\n",
       "      <td>9</td>\n",
       "      <td>20100127</td>\n",
       "      <td>0</td>\n",
       "    </tr>\n",
       "    <tr>\n",
       "      <th>9</th>\n",
       "      <td>++8XaEDast796K/DQcP7sSoRQ8JRnA7X5S+oyXEw62E=</td>\n",
       "      <td>5</td>\n",
       "      <td>29</td>\n",
       "      <td>male</td>\n",
       "      <td>9</td>\n",
       "      <td>20071211</td>\n",
       "      <td>0</td>\n",
       "    </tr>\n",
       "    <tr>\n",
       "      <th>10</th>\n",
       "      <td>++95tJZADNg8U8HKbYdxbbXIRsO6pw1zBK4tHI7BtZo=</td>\n",
       "      <td>14</td>\n",
       "      <td>35</td>\n",
       "      <td>female</td>\n",
       "      <td>3</td>\n",
       "      <td>20120603</td>\n",
       "      <td>0</td>\n",
       "    </tr>\n",
       "    <tr>\n",
       "      <th>11</th>\n",
       "      <td>++9JUsaZioofS6Fb20Z0z2QOlWNzakO0PRF5GZ75yi4=</td>\n",
       "      <td>13</td>\n",
       "      <td>22</td>\n",
       "      <td>male</td>\n",
       "      <td>9</td>\n",
       "      <td>20141210</td>\n",
       "      <td>0</td>\n",
       "    </tr>\n",
       "    <tr>\n",
       "      <th>12</th>\n",
       "      <td>++A8p4GrsTnMjI6hAZEtlRsaz6s6O9ddUoH0fmS4s7s=</td>\n",
       "      <td>5</td>\n",
       "      <td>43</td>\n",
       "      <td>female</td>\n",
       "      <td>9</td>\n",
       "      <td>20141118</td>\n",
       "      <td>0</td>\n",
       "    </tr>\n",
       "    <tr>\n",
       "      <th>13</th>\n",
       "      <td>++BBU1qnsavj2eC5j5G6dTda9ntLhRiz+pidG73im5s=</td>\n",
       "      <td>17</td>\n",
       "      <td>26</td>\n",
       "      <td>female</td>\n",
       "      <td>9</td>\n",
       "      <td>20090917</td>\n",
       "      <td>0</td>\n",
       "    </tr>\n",
       "    <tr>\n",
       "      <th>14</th>\n",
       "      <td>++BW1PJYU5OZi3n3+IDLiU+d1IL1VE/GLx6p64TDs6U=</td>\n",
       "      <td>15</td>\n",
       "      <td>29</td>\n",
       "      <td>male</td>\n",
       "      <td>9</td>\n",
       "      <td>20070609</td>\n",
       "      <td>0</td>\n",
       "    </tr>\n",
       "    <tr>\n",
       "      <th>15</th>\n",
       "      <td>++CITmZPtQDWOi01uceGb75QJblInDRhjjGM1MmsiSY=</td>\n",
       "      <td>3</td>\n",
       "      <td>33</td>\n",
       "      <td>female</td>\n",
       "      <td>9</td>\n",
       "      <td>20061108</td>\n",
       "      <td>0</td>\n",
       "    </tr>\n",
       "    <tr>\n",
       "      <th>16</th>\n",
       "      <td>++DcyRE+ZfLtlKGigvv9dv5EQ4KAhHhiN9LM9X+F1vw=</td>\n",
       "      <td>4</td>\n",
       "      <td>37</td>\n",
       "      <td>male</td>\n",
       "      <td>9</td>\n",
       "      <td>20110322</td>\n",
       "      <td>1</td>\n",
       "    </tr>\n",
       "    <tr>\n",
       "      <th>17</th>\n",
       "      <td>++EcAZQCSSJQMx37/+/QqjiVQq3cS/hGug6JlzCufig=</td>\n",
       "      <td>4</td>\n",
       "      <td>28</td>\n",
       "      <td>male</td>\n",
       "      <td>9</td>\n",
       "      <td>20110205</td>\n",
       "      <td>0</td>\n",
       "    </tr>\n",
       "    <tr>\n",
       "      <th>18</th>\n",
       "      <td>++FojTWzKjhz7uxsZXEN3KBpxSmSvPr2j9KEuLzVAm4=</td>\n",
       "      <td>13</td>\n",
       "      <td>23</td>\n",
       "      <td>male</td>\n",
       "      <td>3</td>\n",
       "      <td>20130210</td>\n",
       "      <td>0</td>\n",
       "    </tr>\n",
       "    <tr>\n",
       "      <th>19</th>\n",
       "      <td>++GeSFVX+57LLP1FT1EQ5uUWgP03beR/Bzh52e6Rd3E=</td>\n",
       "      <td>14</td>\n",
       "      <td>25</td>\n",
       "      <td>male</td>\n",
       "      <td>9</td>\n",
       "      <td>20141221</td>\n",
       "      <td>0</td>\n",
       "    </tr>\n",
       "    <tr>\n",
       "      <th>20</th>\n",
       "      <td>++GjRRRL6zhb+3WNiXn21L9cAWlsWlvC9UZQM+rIoQM=</td>\n",
       "      <td>4</td>\n",
       "      <td>51</td>\n",
       "      <td>female</td>\n",
       "      <td>3</td>\n",
       "      <td>20121005</td>\n",
       "      <td>0</td>\n",
       "    </tr>\n",
       "    <tr>\n",
       "      <th>21</th>\n",
       "      <td>++H2ji6yR76RytMvOruQBdvd8kYumw0BqS+fGxsRCTo=</td>\n",
       "      <td>15</td>\n",
       "      <td>28</td>\n",
       "      <td>male</td>\n",
       "      <td>9</td>\n",
       "      <td>20050827</td>\n",
       "      <td>0</td>\n",
       "    </tr>\n",
       "    <tr>\n",
       "      <th>22</th>\n",
       "      <td>++IjleA6pVExACeYOj1kyyE1MNGt5vVTAX94T2VNasE=</td>\n",
       "      <td>14</td>\n",
       "      <td>26</td>\n",
       "      <td>male</td>\n",
       "      <td>7</td>\n",
       "      <td>20120311</td>\n",
       "      <td>0</td>\n",
       "    </tr>\n",
       "    <tr>\n",
       "      <th>23</th>\n",
       "      <td>++JGYktWmyC4C/EUf+Q8aLOWtzX063tsvgqJUIyLTkE=</td>\n",
       "      <td>8</td>\n",
       "      <td>19</td>\n",
       "      <td>male</td>\n",
       "      <td>7</td>\n",
       "      <td>20150725</td>\n",
       "      <td>0</td>\n",
       "    </tr>\n",
       "    <tr>\n",
       "      <th>24</th>\n",
       "      <td>++L+G2jsvbkHMHlwvb2KQiRLAvB4VyEfjVJTUrs5auE=</td>\n",
       "      <td>5</td>\n",
       "      <td>20</td>\n",
       "      <td>male</td>\n",
       "      <td>9</td>\n",
       "      <td>20130122</td>\n",
       "      <td>0</td>\n",
       "    </tr>\n",
       "    <tr>\n",
       "      <th>25</th>\n",
       "      <td>++Ll4H/bT6Iiq/+0xcVwubXnuf0XR0MWVh2AnHAgxa8=</td>\n",
       "      <td>1</td>\n",
       "      <td>31</td>\n",
       "      <td>female</td>\n",
       "      <td>3</td>\n",
       "      <td>20140927</td>\n",
       "      <td>0</td>\n",
       "    </tr>\n",
       "    <tr>\n",
       "      <th>26</th>\n",
       "      <td>++N9C3T2DFC2uRZ9LYOJW0KSq1sG++54neJYETDmkkI=</td>\n",
       "      <td>5</td>\n",
       "      <td>29</td>\n",
       "      <td>male</td>\n",
       "      <td>3</td>\n",
       "      <td>20141105</td>\n",
       "      <td>0</td>\n",
       "    </tr>\n",
       "    <tr>\n",
       "      <th>27</th>\n",
       "      <td>++NdP5GS9hxpyOaig+eMIWJ1gw8VmC85qTsEG5YMs+w=</td>\n",
       "      <td>6</td>\n",
       "      <td>21</td>\n",
       "      <td>female</td>\n",
       "      <td>3</td>\n",
       "      <td>20150223</td>\n",
       "      <td>0</td>\n",
       "    </tr>\n",
       "    <tr>\n",
       "      <th>28</th>\n",
       "      <td>++NxexFf+dz2uTg/gk+g/tpJNZnixN2plr76Z375pt8=</td>\n",
       "      <td>6</td>\n",
       "      <td>57</td>\n",
       "      <td>male</td>\n",
       "      <td>7</td>\n",
       "      <td>20151028</td>\n",
       "      <td>0</td>\n",
       "    </tr>\n",
       "    <tr>\n",
       "      <th>29</th>\n",
       "      <td>++OO0dlx66sqqbXfJu9K4tX94zYLNwN/kq0cMOCVDyQ=</td>\n",
       "      <td>17</td>\n",
       "      <td>30</td>\n",
       "      <td>male</td>\n",
       "      <td>4</td>\n",
       "      <td>20161025</td>\n",
       "      <td>0</td>\n",
       "    </tr>\n",
       "    <tr>\n",
       "      <th>...</th>\n",
       "      <td>...</td>\n",
       "      <td>...</td>\n",
       "      <td>...</td>\n",
       "      <td>...</td>\n",
       "      <td>...</td>\n",
       "      <td>...</td>\n",
       "      <td>...</td>\n",
       "    </tr>\n",
       "    <tr>\n",
       "      <th>379468</th>\n",
       "      <td>zzgNB0q1rl7MhtCW3DxZjPJPiZUQQEKYuJuUUnEpaII=</td>\n",
       "      <td>15</td>\n",
       "      <td>23</td>\n",
       "      <td>male</td>\n",
       "      <td>9</td>\n",
       "      <td>20060530</td>\n",
       "      <td>0</td>\n",
       "    </tr>\n",
       "    <tr>\n",
       "      <th>379469</th>\n",
       "      <td>zzgZegv7fTUp2rOEyStKmsAs4SNrURIMRuIEJl7KFBw=</td>\n",
       "      <td>13</td>\n",
       "      <td>34</td>\n",
       "      <td>female</td>\n",
       "      <td>4</td>\n",
       "      <td>20160720</td>\n",
       "      <td>0</td>\n",
       "    </tr>\n",
       "    <tr>\n",
       "      <th>379470</th>\n",
       "      <td>zzhCFbZwTy6Kv95jnDFZ3ZKriHjv8gaEL7fbqPaZZmI=</td>\n",
       "      <td>13</td>\n",
       "      <td>31</td>\n",
       "      <td>male</td>\n",
       "      <td>4</td>\n",
       "      <td>20160202</td>\n",
       "      <td>1</td>\n",
       "    </tr>\n",
       "    <tr>\n",
       "      <th>379471</th>\n",
       "      <td>zzhFV/rqk3wZYOdelkIDXvwaWIW81bg7Ujl0wHmHh6I=</td>\n",
       "      <td>1</td>\n",
       "      <td>47</td>\n",
       "      <td>female</td>\n",
       "      <td>3</td>\n",
       "      <td>20170107</td>\n",
       "      <td>0</td>\n",
       "    </tr>\n",
       "    <tr>\n",
       "      <th>379472</th>\n",
       "      <td>zziGyl/qzTCtTSSnq0DdSEAj7dZPp5K54SE4BpTbw34=</td>\n",
       "      <td>5</td>\n",
       "      <td>21</td>\n",
       "      <td>male</td>\n",
       "      <td>9</td>\n",
       "      <td>20150709</td>\n",
       "      <td>0</td>\n",
       "    </tr>\n",
       "    <tr>\n",
       "      <th>379473</th>\n",
       "      <td>zzjL+h+/fnGP09U09wqUbRQxPn+S4xdccyhyVoTOh3Y=</td>\n",
       "      <td>13</td>\n",
       "      <td>22</td>\n",
       "      <td>male</td>\n",
       "      <td>4</td>\n",
       "      <td>20161006</td>\n",
       "      <td>0</td>\n",
       "    </tr>\n",
       "    <tr>\n",
       "      <th>379474</th>\n",
       "      <td>zzjTkhl1QpGtYbm4npjOdV8kl0QcS8h8zJhC9jfcBBM=</td>\n",
       "      <td>14</td>\n",
       "      <td>52</td>\n",
       "      <td>male</td>\n",
       "      <td>9</td>\n",
       "      <td>20081227</td>\n",
       "      <td>0</td>\n",
       "    </tr>\n",
       "    <tr>\n",
       "      <th>379475</th>\n",
       "      <td>zzl/0Ih763mnofwOhFMKH7w9u0/bA5CM50IUzb35aYY=</td>\n",
       "      <td>3</td>\n",
       "      <td>26</td>\n",
       "      <td>male</td>\n",
       "      <td>9</td>\n",
       "      <td>20150527</td>\n",
       "      <td>0</td>\n",
       "    </tr>\n",
       "    <tr>\n",
       "      <th>379476</th>\n",
       "      <td>zzm2UvJnzuTRkXaiaZHtbJwPG9jZQZkZxG0n4PYDTvw=</td>\n",
       "      <td>5</td>\n",
       "      <td>25</td>\n",
       "      <td>female</td>\n",
       "      <td>7</td>\n",
       "      <td>20140122</td>\n",
       "      <td>0</td>\n",
       "    </tr>\n",
       "    <tr>\n",
       "      <th>379477</th>\n",
       "      <td>zzmKDr1WfF1gRwmq0K+yMLKkplcsuY8z1jJUVWyy2eI=</td>\n",
       "      <td>5</td>\n",
       "      <td>28</td>\n",
       "      <td>male</td>\n",
       "      <td>9</td>\n",
       "      <td>20091219</td>\n",
       "      <td>0</td>\n",
       "    </tr>\n",
       "    <tr>\n",
       "      <th>379478</th>\n",
       "      <td>zzmb2gX4F9mK0G1+2YQ8pqdYrPizIo0o+MNUA9+5I1I=</td>\n",
       "      <td>5</td>\n",
       "      <td>26</td>\n",
       "      <td>female</td>\n",
       "      <td>9</td>\n",
       "      <td>20120925</td>\n",
       "      <td>0</td>\n",
       "    </tr>\n",
       "    <tr>\n",
       "      <th>379479</th>\n",
       "      <td>zzmqBYauZ247rjS10f7TK2D7L3SFZcXkEEDWAIxzxSs=</td>\n",
       "      <td>22</td>\n",
       "      <td>24</td>\n",
       "      <td>female</td>\n",
       "      <td>9</td>\n",
       "      <td>20110316</td>\n",
       "      <td>0</td>\n",
       "    </tr>\n",
       "    <tr>\n",
       "      <th>379480</th>\n",
       "      <td>zznUnSfJG6FoDomRtZ3U4mZ5199QmKwAubuaWycwEE4=</td>\n",
       "      <td>14</td>\n",
       "      <td>36</td>\n",
       "      <td>male</td>\n",
       "      <td>3</td>\n",
       "      <td>20140218</td>\n",
       "      <td>0</td>\n",
       "    </tr>\n",
       "    <tr>\n",
       "      <th>379481</th>\n",
       "      <td>zznxIK74CmFA4ctJV0OdqizliOysqwVH3HYqSRatwjQ=</td>\n",
       "      <td>1</td>\n",
       "      <td>25</td>\n",
       "      <td>female</td>\n",
       "      <td>7</td>\n",
       "      <td>20120710</td>\n",
       "      <td>0</td>\n",
       "    </tr>\n",
       "    <tr>\n",
       "      <th>379482</th>\n",
       "      <td>zzompfSaMamqvjyCMYvgUBwYrxh8fHE40z3f73CQoak=</td>\n",
       "      <td>12</td>\n",
       "      <td>25</td>\n",
       "      <td>male</td>\n",
       "      <td>3</td>\n",
       "      <td>20130221</td>\n",
       "      <td>0</td>\n",
       "    </tr>\n",
       "    <tr>\n",
       "      <th>379483</th>\n",
       "      <td>zzrd7DiMe4a9EIUBeIKSUxpblomhiBE3DvaC32fMl7o=</td>\n",
       "      <td>13</td>\n",
       "      <td>20</td>\n",
       "      <td>female</td>\n",
       "      <td>4</td>\n",
       "      <td>20160718</td>\n",
       "      <td>0</td>\n",
       "    </tr>\n",
       "    <tr>\n",
       "      <th>379484</th>\n",
       "      <td>zzsumtyPQEJN7XNakERtaZiXsGmc786aWSHFScPfV5k=</td>\n",
       "      <td>1</td>\n",
       "      <td>39</td>\n",
       "      <td>male</td>\n",
       "      <td>4</td>\n",
       "      <td>20170115</td>\n",
       "      <td>1</td>\n",
       "    </tr>\n",
       "    <tr>\n",
       "      <th>379485</th>\n",
       "      <td>zzsusjoGJ6jH+qVF5cMfJGphBO7MR4P4P1rD7qxITX0=</td>\n",
       "      <td>4</td>\n",
       "      <td>27</td>\n",
       "      <td>female</td>\n",
       "      <td>9</td>\n",
       "      <td>20120923</td>\n",
       "      <td>0</td>\n",
       "    </tr>\n",
       "    <tr>\n",
       "      <th>379486</th>\n",
       "      <td>zzt4LinfZVgufjQc8MVgTz9CwxB9pJtNJDnk3d3F7Ac=</td>\n",
       "      <td>13</td>\n",
       "      <td>20</td>\n",
       "      <td>male</td>\n",
       "      <td>9</td>\n",
       "      <td>20110318</td>\n",
       "      <td>0</td>\n",
       "    </tr>\n",
       "    <tr>\n",
       "      <th>379487</th>\n",
       "      <td>zztGcSZznx0uMBvc0fTQVTfCzeS7Ho/otO2L/4FXs/w=</td>\n",
       "      <td>3</td>\n",
       "      <td>29</td>\n",
       "      <td>male</td>\n",
       "      <td>9</td>\n",
       "      <td>20070605</td>\n",
       "      <td>0</td>\n",
       "    </tr>\n",
       "    <tr>\n",
       "      <th>379488</th>\n",
       "      <td>zztg1DNR0a6n+9+CXd8WAfNZHsl5VvyYC2ngeXlwpkc=</td>\n",
       "      <td>22</td>\n",
       "      <td>18</td>\n",
       "      <td>male</td>\n",
       "      <td>3</td>\n",
       "      <td>20150831</td>\n",
       "      <td>0</td>\n",
       "    </tr>\n",
       "    <tr>\n",
       "      <th>379489</th>\n",
       "      <td>zzuGxQfF86Zsx5nqF1Yh+oJpEIfdjFKKYpTqFZMdxzk=</td>\n",
       "      <td>22</td>\n",
       "      <td>30</td>\n",
       "      <td>male</td>\n",
       "      <td>9</td>\n",
       "      <td>20051216</td>\n",
       "      <td>0</td>\n",
       "    </tr>\n",
       "    <tr>\n",
       "      <th>379490</th>\n",
       "      <td>zzv/igs0VigNppe7WR8qgz1h6aXFFzQLu5paAswIbcQ=</td>\n",
       "      <td>14</td>\n",
       "      <td>33</td>\n",
       "      <td>male</td>\n",
       "      <td>9</td>\n",
       "      <td>20060721</td>\n",
       "      <td>0</td>\n",
       "    </tr>\n",
       "    <tr>\n",
       "      <th>379491</th>\n",
       "      <td>zzwimfmJBJ4SrRw3bYXQzE9UrizlSE10yI7dHPvG5xM=</td>\n",
       "      <td>18</td>\n",
       "      <td>43</td>\n",
       "      <td>female</td>\n",
       "      <td>7</td>\n",
       "      <td>20161020</td>\n",
       "      <td>0</td>\n",
       "    </tr>\n",
       "    <tr>\n",
       "      <th>379492</th>\n",
       "      <td>zzwlIVmSuehTevzOi+WkcC7b3+MBYDiE4qybszTyhII=</td>\n",
       "      <td>13</td>\n",
       "      <td>26</td>\n",
       "      <td>male</td>\n",
       "      <td>4</td>\n",
       "      <td>20160416</td>\n",
       "      <td>0</td>\n",
       "    </tr>\n",
       "    <tr>\n",
       "      <th>379493</th>\n",
       "      <td>zzx1qgX8R9EmT8PAn4/KyQ6s7PuLYTfR8kUCABiCW9E=</td>\n",
       "      <td>6</td>\n",
       "      <td>31</td>\n",
       "      <td>male</td>\n",
       "      <td>9</td>\n",
       "      <td>20141014</td>\n",
       "      <td>0</td>\n",
       "    </tr>\n",
       "    <tr>\n",
       "      <th>379494</th>\n",
       "      <td>zzx7wcys2Nha6yP2Skjs+R1/JNAfEuAWUaAp0qsV2Cg=</td>\n",
       "      <td>15</td>\n",
       "      <td>30</td>\n",
       "      <td>female</td>\n",
       "      <td>7</td>\n",
       "      <td>20100921</td>\n",
       "      <td>1</td>\n",
       "    </tr>\n",
       "    <tr>\n",
       "      <th>379495</th>\n",
       "      <td>zzxPS8+wCuE4HE85EDp4WBHgS5l548vfwXJbQq1HZ9I=</td>\n",
       "      <td>22</td>\n",
       "      <td>28</td>\n",
       "      <td>female</td>\n",
       "      <td>9</td>\n",
       "      <td>20070810</td>\n",
       "      <td>0</td>\n",
       "    </tr>\n",
       "    <tr>\n",
       "      <th>379496</th>\n",
       "      <td>zzxZeMFx2fjfKZigMnJa2w0EmloDbm8+8nTf/o/00GY=</td>\n",
       "      <td>4</td>\n",
       "      <td>24</td>\n",
       "      <td>male</td>\n",
       "      <td>7</td>\n",
       "      <td>20120306</td>\n",
       "      <td>0</td>\n",
       "    </tr>\n",
       "    <tr>\n",
       "      <th>379497</th>\n",
       "      <td>zzz1Dc3P9s53HAowRTrm3fNsWju5yeN4YBfNDq7Z99Q=</td>\n",
       "      <td>4</td>\n",
       "      <td>48</td>\n",
       "      <td>female</td>\n",
       "      <td>9</td>\n",
       "      <td>20140611</td>\n",
       "      <td>0</td>\n",
       "    </tr>\n",
       "  </tbody>\n",
       "</table>\n",
       "<p>379498 rows × 7 columns</p>\n",
       "</div>"
      ],
      "text/plain": [
       "                                                msno  city  bd  gender  \\\n",
       "0       +++l/EXNMLTijfLBa8p2TUVVVp2aFGSuUI/h7mLmthw=    15  26    male   \n",
       "1       ++/9R3sX37CjxbY/AaGvbwr3QkwElKBCtSvVzhCBDOk=    18  21    male   \n",
       "2       ++/UDNo9DLrxT8QVGiDi1OnWfczAdEwThaVyD0fXO50=    22  32    male   \n",
       "3       ++/ZHqwUNa7U21Qz+zqteiXlZapxey86l6eEorrak/g=    13  39    male   \n",
       "4       ++3Z+W8OPnpbHYfrKwqRKN1bF83XEbxjdYUolhGdHZg=     5  35  female   \n",
       "5       ++4cUL0b9CfW8cj0A/wfSxQc4k4fcVtWcLqk2UOdpKs=    15  28    male   \n",
       "6       ++5wYjoMgQHoRuD3GbbvmphZbBBwymzv5Q4l8sywtuU=    13  39    male   \n",
       "7       ++6P09mCSJSh+Ft2pvZ0FWTrtcI3v1A7h3/coh8dBKw=    22  35    male   \n",
       "8       ++7IULiyKbNc8jllqhRuyKZjX1J4mPF4tsudFCJfv4k=     5  38  female   \n",
       "9       ++8XaEDast796K/DQcP7sSoRQ8JRnA7X5S+oyXEw62E=     5  29    male   \n",
       "10      ++95tJZADNg8U8HKbYdxbbXIRsO6pw1zBK4tHI7BtZo=    14  35  female   \n",
       "11      ++9JUsaZioofS6Fb20Z0z2QOlWNzakO0PRF5GZ75yi4=    13  22    male   \n",
       "12      ++A8p4GrsTnMjI6hAZEtlRsaz6s6O9ddUoH0fmS4s7s=     5  43  female   \n",
       "13      ++BBU1qnsavj2eC5j5G6dTda9ntLhRiz+pidG73im5s=    17  26  female   \n",
       "14      ++BW1PJYU5OZi3n3+IDLiU+d1IL1VE/GLx6p64TDs6U=    15  29    male   \n",
       "15      ++CITmZPtQDWOi01uceGb75QJblInDRhjjGM1MmsiSY=     3  33  female   \n",
       "16      ++DcyRE+ZfLtlKGigvv9dv5EQ4KAhHhiN9LM9X+F1vw=     4  37    male   \n",
       "17      ++EcAZQCSSJQMx37/+/QqjiVQq3cS/hGug6JlzCufig=     4  28    male   \n",
       "18      ++FojTWzKjhz7uxsZXEN3KBpxSmSvPr2j9KEuLzVAm4=    13  23    male   \n",
       "19      ++GeSFVX+57LLP1FT1EQ5uUWgP03beR/Bzh52e6Rd3E=    14  25    male   \n",
       "20      ++GjRRRL6zhb+3WNiXn21L9cAWlsWlvC9UZQM+rIoQM=     4  51  female   \n",
       "21      ++H2ji6yR76RytMvOruQBdvd8kYumw0BqS+fGxsRCTo=    15  28    male   \n",
       "22      ++IjleA6pVExACeYOj1kyyE1MNGt5vVTAX94T2VNasE=    14  26    male   \n",
       "23      ++JGYktWmyC4C/EUf+Q8aLOWtzX063tsvgqJUIyLTkE=     8  19    male   \n",
       "24      ++L+G2jsvbkHMHlwvb2KQiRLAvB4VyEfjVJTUrs5auE=     5  20    male   \n",
       "25      ++Ll4H/bT6Iiq/+0xcVwubXnuf0XR0MWVh2AnHAgxa8=     1  31  female   \n",
       "26      ++N9C3T2DFC2uRZ9LYOJW0KSq1sG++54neJYETDmkkI=     5  29    male   \n",
       "27      ++NdP5GS9hxpyOaig+eMIWJ1gw8VmC85qTsEG5YMs+w=     6  21  female   \n",
       "28      ++NxexFf+dz2uTg/gk+g/tpJNZnixN2plr76Z375pt8=     6  57    male   \n",
       "29      ++OO0dlx66sqqbXfJu9K4tX94zYLNwN/kq0cMOCVDyQ=    17  30    male   \n",
       "...                                              ...   ...  ..     ...   \n",
       "379468  zzgNB0q1rl7MhtCW3DxZjPJPiZUQQEKYuJuUUnEpaII=    15  23    male   \n",
       "379469  zzgZegv7fTUp2rOEyStKmsAs4SNrURIMRuIEJl7KFBw=    13  34  female   \n",
       "379470  zzhCFbZwTy6Kv95jnDFZ3ZKriHjv8gaEL7fbqPaZZmI=    13  31    male   \n",
       "379471  zzhFV/rqk3wZYOdelkIDXvwaWIW81bg7Ujl0wHmHh6I=     1  47  female   \n",
       "379472  zziGyl/qzTCtTSSnq0DdSEAj7dZPp5K54SE4BpTbw34=     5  21    male   \n",
       "379473  zzjL+h+/fnGP09U09wqUbRQxPn+S4xdccyhyVoTOh3Y=    13  22    male   \n",
       "379474  zzjTkhl1QpGtYbm4npjOdV8kl0QcS8h8zJhC9jfcBBM=    14  52    male   \n",
       "379475  zzl/0Ih763mnofwOhFMKH7w9u0/bA5CM50IUzb35aYY=     3  26    male   \n",
       "379476  zzm2UvJnzuTRkXaiaZHtbJwPG9jZQZkZxG0n4PYDTvw=     5  25  female   \n",
       "379477  zzmKDr1WfF1gRwmq0K+yMLKkplcsuY8z1jJUVWyy2eI=     5  28    male   \n",
       "379478  zzmb2gX4F9mK0G1+2YQ8pqdYrPizIo0o+MNUA9+5I1I=     5  26  female   \n",
       "379479  zzmqBYauZ247rjS10f7TK2D7L3SFZcXkEEDWAIxzxSs=    22  24  female   \n",
       "379480  zznUnSfJG6FoDomRtZ3U4mZ5199QmKwAubuaWycwEE4=    14  36    male   \n",
       "379481  zznxIK74CmFA4ctJV0OdqizliOysqwVH3HYqSRatwjQ=     1  25  female   \n",
       "379482  zzompfSaMamqvjyCMYvgUBwYrxh8fHE40z3f73CQoak=    12  25    male   \n",
       "379483  zzrd7DiMe4a9EIUBeIKSUxpblomhiBE3DvaC32fMl7o=    13  20  female   \n",
       "379484  zzsumtyPQEJN7XNakERtaZiXsGmc786aWSHFScPfV5k=     1  39    male   \n",
       "379485  zzsusjoGJ6jH+qVF5cMfJGphBO7MR4P4P1rD7qxITX0=     4  27  female   \n",
       "379486  zzt4LinfZVgufjQc8MVgTz9CwxB9pJtNJDnk3d3F7Ac=    13  20    male   \n",
       "379487  zztGcSZznx0uMBvc0fTQVTfCzeS7Ho/otO2L/4FXs/w=     3  29    male   \n",
       "379488  zztg1DNR0a6n+9+CXd8WAfNZHsl5VvyYC2ngeXlwpkc=    22  18    male   \n",
       "379489  zzuGxQfF86Zsx5nqF1Yh+oJpEIfdjFKKYpTqFZMdxzk=    22  30    male   \n",
       "379490  zzv/igs0VigNppe7WR8qgz1h6aXFFzQLu5paAswIbcQ=    14  33    male   \n",
       "379491  zzwimfmJBJ4SrRw3bYXQzE9UrizlSE10yI7dHPvG5xM=    18  43  female   \n",
       "379492  zzwlIVmSuehTevzOi+WkcC7b3+MBYDiE4qybszTyhII=    13  26    male   \n",
       "379493  zzx1qgX8R9EmT8PAn4/KyQ6s7PuLYTfR8kUCABiCW9E=     6  31    male   \n",
       "379494  zzx7wcys2Nha6yP2Skjs+R1/JNAfEuAWUaAp0qsV2Cg=    15  30  female   \n",
       "379495  zzxPS8+wCuE4HE85EDp4WBHgS5l548vfwXJbQq1HZ9I=    22  28  female   \n",
       "379496  zzxZeMFx2fjfKZigMnJa2w0EmloDbm8+8nTf/o/00GY=     4  24    male   \n",
       "379497  zzz1Dc3P9s53HAowRTrm3fNsWju5yeN4YBfNDq7Z99Q=     4  48  female   \n",
       "\n",
       "        registered_via  registration_init_time  is_churn  \n",
       "0                    9                20101118         0  \n",
       "1                    7                20160315         0  \n",
       "2                    9                20120122         0  \n",
       "3                    3                20140421         0  \n",
       "4                    7                20120209         0  \n",
       "5                    7                20121009         0  \n",
       "6                    9                20060218         0  \n",
       "7                    9                20100921         0  \n",
       "8                    9                20100127         0  \n",
       "9                    9                20071211         0  \n",
       "10                   3                20120603         0  \n",
       "11                   9                20141210         0  \n",
       "12                   9                20141118         0  \n",
       "13                   9                20090917         0  \n",
       "14                   9                20070609         0  \n",
       "15                   9                20061108         0  \n",
       "16                   9                20110322         1  \n",
       "17                   9                20110205         0  \n",
       "18                   3                20130210         0  \n",
       "19                   9                20141221         0  \n",
       "20                   3                20121005         0  \n",
       "21                   9                20050827         0  \n",
       "22                   7                20120311         0  \n",
       "23                   7                20150725         0  \n",
       "24                   9                20130122         0  \n",
       "25                   3                20140927         0  \n",
       "26                   3                20141105         0  \n",
       "27                   3                20150223         0  \n",
       "28                   7                20151028         0  \n",
       "29                   4                20161025         0  \n",
       "...                ...                     ...       ...  \n",
       "379468               9                20060530         0  \n",
       "379469               4                20160720         0  \n",
       "379470               4                20160202         1  \n",
       "379471               3                20170107         0  \n",
       "379472               9                20150709         0  \n",
       "379473               4                20161006         0  \n",
       "379474               9                20081227         0  \n",
       "379475               9                20150527         0  \n",
       "379476               7                20140122         0  \n",
       "379477               9                20091219         0  \n",
       "379478               9                20120925         0  \n",
       "379479               9                20110316         0  \n",
       "379480               3                20140218         0  \n",
       "379481               7                20120710         0  \n",
       "379482               3                20130221         0  \n",
       "379483               4                20160718         0  \n",
       "379484               4                20170115         1  \n",
       "379485               9                20120923         0  \n",
       "379486               9                20110318         0  \n",
       "379487               9                20070605         0  \n",
       "379488               3                20150831         0  \n",
       "379489               9                20051216         0  \n",
       "379490               9                20060721         0  \n",
       "379491               7                20161020         0  \n",
       "379492               4                20160416         0  \n",
       "379493               9                20141014         0  \n",
       "379494               7                20100921         1  \n",
       "379495               9                20070810         0  \n",
       "379496               7                20120306         0  \n",
       "379497               9                20140611         0  \n",
       "\n",
       "[379498 rows x 7 columns]"
      ]
     },
     "execution_count": 2,
     "metadata": {},
     "output_type": "execute_result"
    }
   ],
   "source": [
    "# read data\n",
    "data = pd.read_csv('tm.csv', header=0, encoding='UTF-8')\n",
    "data"
   ]
  },
  {
   "cell_type": "code",
   "execution_count": 3,
   "metadata": {},
   "outputs": [
    {
     "data": {
      "text/plain": [
       "['msno',\n",
       " 'city',\n",
       " 'bd',\n",
       " 'gender',\n",
       " 'registered_via',\n",
       " 'registration_init_time',\n",
       " 'is_churn']"
      ]
     },
     "execution_count": 3,
     "metadata": {},
     "output_type": "execute_result"
    }
   ],
   "source": [
    "data.columns.tolist()"
   ]
  },
  {
   "cell_type": "code",
   "execution_count": 4,
   "metadata": {
    "collapsed": true
   },
   "outputs": [
    {
     "ename": "FileNotFoundError",
     "evalue": "File b'C:/dataset/tm.csv' does not exist",
     "output_type": "error",
     "traceback": [
      "\u001b[0;31m---------------------------------------------------------------------------\u001b[0m",
      "\u001b[0;31mFileNotFoundError\u001b[0m                         Traceback (most recent call last)",
      "\u001b[0;32m<ipython-input-4-36f0c4879c28>\u001b[0m in \u001b[0;36m<module>\u001b[0;34m()\u001b[0m\n\u001b[1;32m      1\u001b[0m \u001b[0;31m# read data in windows\u001b[0m\u001b[0;34m\u001b[0m\u001b[0;34m\u001b[0m\u001b[0m\n\u001b[0;32m----> 2\u001b[0;31m \u001b[0mdata\u001b[0m \u001b[0;34m=\u001b[0m \u001b[0mpd\u001b[0m\u001b[0;34m.\u001b[0m\u001b[0mread_csv\u001b[0m\u001b[0;34m(\u001b[0m\u001b[0;34m'C:/dataset/tm.csv'\u001b[0m\u001b[0;34m,\u001b[0m \u001b[0mheader\u001b[0m\u001b[0;34m=\u001b[0m\u001b[0;36m0\u001b[0m\u001b[0;34m,\u001b[0m \u001b[0mindex_col\u001b[0m\u001b[0;34m=\u001b[0m\u001b[0;36m0\u001b[0m\u001b[0;34m,\u001b[0m \u001b[0mencoding\u001b[0m\u001b[0;34m=\u001b[0m\u001b[0;34m'UTF-8'\u001b[0m\u001b[0;34m)\u001b[0m\u001b[0;34m\u001b[0m\u001b[0m\n\u001b[0m\u001b[1;32m      3\u001b[0m \u001b[0mdata\u001b[0m\u001b[0;34m\u001b[0m\u001b[0m\n",
      "\u001b[0;32m/anaconda3/lib/python3.6/site-packages/pandas/io/parsers.py\u001b[0m in \u001b[0;36mparser_f\u001b[0;34m(filepath_or_buffer, sep, delimiter, header, names, index_col, usecols, squeeze, prefix, mangle_dupe_cols, dtype, engine, converters, true_values, false_values, skipinitialspace, skiprows, nrows, na_values, keep_default_na, na_filter, verbose, skip_blank_lines, parse_dates, infer_datetime_format, keep_date_col, date_parser, dayfirst, iterator, chunksize, compression, thousands, decimal, lineterminator, quotechar, quoting, escapechar, comment, encoding, dialect, tupleize_cols, error_bad_lines, warn_bad_lines, skipfooter, skip_footer, doublequote, delim_whitespace, as_recarray, compact_ints, use_unsigned, low_memory, buffer_lines, memory_map, float_precision)\u001b[0m\n\u001b[1;32m    703\u001b[0m                     skip_blank_lines=skip_blank_lines)\n\u001b[1;32m    704\u001b[0m \u001b[0;34m\u001b[0m\u001b[0m\n\u001b[0;32m--> 705\u001b[0;31m         \u001b[0;32mreturn\u001b[0m \u001b[0m_read\u001b[0m\u001b[0;34m(\u001b[0m\u001b[0mfilepath_or_buffer\u001b[0m\u001b[0;34m,\u001b[0m \u001b[0mkwds\u001b[0m\u001b[0;34m)\u001b[0m\u001b[0;34m\u001b[0m\u001b[0m\n\u001b[0m\u001b[1;32m    706\u001b[0m \u001b[0;34m\u001b[0m\u001b[0m\n\u001b[1;32m    707\u001b[0m     \u001b[0mparser_f\u001b[0m\u001b[0;34m.\u001b[0m\u001b[0m__name__\u001b[0m \u001b[0;34m=\u001b[0m \u001b[0mname\u001b[0m\u001b[0;34m\u001b[0m\u001b[0m\n",
      "\u001b[0;32m/anaconda3/lib/python3.6/site-packages/pandas/io/parsers.py\u001b[0m in \u001b[0;36m_read\u001b[0;34m(filepath_or_buffer, kwds)\u001b[0m\n\u001b[1;32m    443\u001b[0m \u001b[0;34m\u001b[0m\u001b[0m\n\u001b[1;32m    444\u001b[0m     \u001b[0;31m# Create the parser.\u001b[0m\u001b[0;34m\u001b[0m\u001b[0;34m\u001b[0m\u001b[0m\n\u001b[0;32m--> 445\u001b[0;31m     \u001b[0mparser\u001b[0m \u001b[0;34m=\u001b[0m \u001b[0mTextFileReader\u001b[0m\u001b[0;34m(\u001b[0m\u001b[0mfilepath_or_buffer\u001b[0m\u001b[0;34m,\u001b[0m \u001b[0;34m**\u001b[0m\u001b[0mkwds\u001b[0m\u001b[0;34m)\u001b[0m\u001b[0;34m\u001b[0m\u001b[0m\n\u001b[0m\u001b[1;32m    446\u001b[0m \u001b[0;34m\u001b[0m\u001b[0m\n\u001b[1;32m    447\u001b[0m     \u001b[0;32mif\u001b[0m \u001b[0mchunksize\u001b[0m \u001b[0;32mor\u001b[0m \u001b[0miterator\u001b[0m\u001b[0;34m:\u001b[0m\u001b[0;34m\u001b[0m\u001b[0m\n",
      "\u001b[0;32m/anaconda3/lib/python3.6/site-packages/pandas/io/parsers.py\u001b[0m in \u001b[0;36m__init__\u001b[0;34m(self, f, engine, **kwds)\u001b[0m\n\u001b[1;32m    812\u001b[0m             \u001b[0mself\u001b[0m\u001b[0;34m.\u001b[0m\u001b[0moptions\u001b[0m\u001b[0;34m[\u001b[0m\u001b[0;34m'has_index_names'\u001b[0m\u001b[0;34m]\u001b[0m \u001b[0;34m=\u001b[0m \u001b[0mkwds\u001b[0m\u001b[0;34m[\u001b[0m\u001b[0;34m'has_index_names'\u001b[0m\u001b[0;34m]\u001b[0m\u001b[0;34m\u001b[0m\u001b[0m\n\u001b[1;32m    813\u001b[0m \u001b[0;34m\u001b[0m\u001b[0m\n\u001b[0;32m--> 814\u001b[0;31m         \u001b[0mself\u001b[0m\u001b[0;34m.\u001b[0m\u001b[0m_make_engine\u001b[0m\u001b[0;34m(\u001b[0m\u001b[0mself\u001b[0m\u001b[0;34m.\u001b[0m\u001b[0mengine\u001b[0m\u001b[0;34m)\u001b[0m\u001b[0;34m\u001b[0m\u001b[0m\n\u001b[0m\u001b[1;32m    815\u001b[0m \u001b[0;34m\u001b[0m\u001b[0m\n\u001b[1;32m    816\u001b[0m     \u001b[0;32mdef\u001b[0m \u001b[0mclose\u001b[0m\u001b[0;34m(\u001b[0m\u001b[0mself\u001b[0m\u001b[0;34m)\u001b[0m\u001b[0;34m:\u001b[0m\u001b[0;34m\u001b[0m\u001b[0m\n",
      "\u001b[0;32m/anaconda3/lib/python3.6/site-packages/pandas/io/parsers.py\u001b[0m in \u001b[0;36m_make_engine\u001b[0;34m(self, engine)\u001b[0m\n\u001b[1;32m   1043\u001b[0m     \u001b[0;32mdef\u001b[0m \u001b[0m_make_engine\u001b[0m\u001b[0;34m(\u001b[0m\u001b[0mself\u001b[0m\u001b[0;34m,\u001b[0m \u001b[0mengine\u001b[0m\u001b[0;34m=\u001b[0m\u001b[0;34m'c'\u001b[0m\u001b[0;34m)\u001b[0m\u001b[0;34m:\u001b[0m\u001b[0;34m\u001b[0m\u001b[0m\n\u001b[1;32m   1044\u001b[0m         \u001b[0;32mif\u001b[0m \u001b[0mengine\u001b[0m \u001b[0;34m==\u001b[0m \u001b[0;34m'c'\u001b[0m\u001b[0;34m:\u001b[0m\u001b[0;34m\u001b[0m\u001b[0m\n\u001b[0;32m-> 1045\u001b[0;31m             \u001b[0mself\u001b[0m\u001b[0;34m.\u001b[0m\u001b[0m_engine\u001b[0m \u001b[0;34m=\u001b[0m \u001b[0mCParserWrapper\u001b[0m\u001b[0;34m(\u001b[0m\u001b[0mself\u001b[0m\u001b[0;34m.\u001b[0m\u001b[0mf\u001b[0m\u001b[0;34m,\u001b[0m \u001b[0;34m**\u001b[0m\u001b[0mself\u001b[0m\u001b[0;34m.\u001b[0m\u001b[0moptions\u001b[0m\u001b[0;34m)\u001b[0m\u001b[0;34m\u001b[0m\u001b[0m\n\u001b[0m\u001b[1;32m   1046\u001b[0m         \u001b[0;32melse\u001b[0m\u001b[0;34m:\u001b[0m\u001b[0;34m\u001b[0m\u001b[0m\n\u001b[1;32m   1047\u001b[0m             \u001b[0;32mif\u001b[0m \u001b[0mengine\u001b[0m \u001b[0;34m==\u001b[0m \u001b[0;34m'python'\u001b[0m\u001b[0;34m:\u001b[0m\u001b[0;34m\u001b[0m\u001b[0m\n",
      "\u001b[0;32m/anaconda3/lib/python3.6/site-packages/pandas/io/parsers.py\u001b[0m in \u001b[0;36m__init__\u001b[0;34m(self, src, **kwds)\u001b[0m\n\u001b[1;32m   1682\u001b[0m         \u001b[0mkwds\u001b[0m\u001b[0;34m[\u001b[0m\u001b[0;34m'allow_leading_cols'\u001b[0m\u001b[0;34m]\u001b[0m \u001b[0;34m=\u001b[0m \u001b[0mself\u001b[0m\u001b[0;34m.\u001b[0m\u001b[0mindex_col\u001b[0m \u001b[0;32mis\u001b[0m \u001b[0;32mnot\u001b[0m \u001b[0;32mFalse\u001b[0m\u001b[0;34m\u001b[0m\u001b[0m\n\u001b[1;32m   1683\u001b[0m \u001b[0;34m\u001b[0m\u001b[0m\n\u001b[0;32m-> 1684\u001b[0;31m         \u001b[0mself\u001b[0m\u001b[0;34m.\u001b[0m\u001b[0m_reader\u001b[0m \u001b[0;34m=\u001b[0m \u001b[0mparsers\u001b[0m\u001b[0;34m.\u001b[0m\u001b[0mTextReader\u001b[0m\u001b[0;34m(\u001b[0m\u001b[0msrc\u001b[0m\u001b[0;34m,\u001b[0m \u001b[0;34m**\u001b[0m\u001b[0mkwds\u001b[0m\u001b[0;34m)\u001b[0m\u001b[0;34m\u001b[0m\u001b[0m\n\u001b[0m\u001b[1;32m   1685\u001b[0m \u001b[0;34m\u001b[0m\u001b[0m\n\u001b[1;32m   1686\u001b[0m         \u001b[0;31m# XXX\u001b[0m\u001b[0;34m\u001b[0m\u001b[0;34m\u001b[0m\u001b[0m\n",
      "\u001b[0;32mpandas/_libs/parsers.pyx\u001b[0m in \u001b[0;36mpandas._libs.parsers.TextReader.__cinit__\u001b[0;34m()\u001b[0m\n",
      "\u001b[0;32mpandas/_libs/parsers.pyx\u001b[0m in \u001b[0;36mpandas._libs.parsers.TextReader._setup_parser_source\u001b[0;34m()\u001b[0m\n",
      "\u001b[0;31mFileNotFoundError\u001b[0m: File b'C:/dataset/tm.csv' does not exist"
     ]
    }
   ],
   "source": [
    "# read data in windows\n",
    "data = pd.read_csv('C:/dataset/tm.csv', header=0, index_col=0, encoding='UTF-8')\n",
    "data"
   ]
  },
  {
   "cell_type": "code",
   "execution_count": null,
   "metadata": {
    "collapsed": true
   },
   "outputs": [],
   "source": [
    "# show the number of row and colunm\n",
    "data.shape"
   ]
  },
  {
   "cell_type": "code",
   "execution_count": null,
   "metadata": {
    "collapsed": true
   },
   "outputs": [],
   "source": [
    "# the demographic of data\n",
    "data.describe()"
   ]
  },
  {
   "cell_type": "code",
   "execution_count": null,
   "metadata": {
    "collapsed": true
   },
   "outputs": [],
   "source": [
    "# first 3 instance\n",
    "data.head(3)"
   ]
  },
  {
   "cell_type": "code",
   "execution_count": null,
   "metadata": {
    "collapsed": true
   },
   "outputs": [],
   "source": [
    "# last 3 instance\n",
    "data.tail(3)"
   ]
  },
  {
   "cell_type": "code",
   "execution_count": null,
   "metadata": {
    "collapsed": true
   },
   "outputs": [],
   "source": [
    "# the atttribute name\n",
    "data.columns"
   ]
  },
  {
   "cell_type": "code",
   "execution_count": null,
   "metadata": {
    "collapsed": true
   },
   "outputs": [],
   "source": [
    "# show the index\n",
    "data.index"
   ]
  },
  {
   "cell_type": "code",
   "execution_count": null,
   "metadata": {
    "collapsed": true
   },
   "outputs": [],
   "source": [
    "# call a variable\n",
    "data.city\n",
    "data[\"city\"]"
   ]
  },
  {
   "cell_type": "code",
   "execution_count": null,
   "metadata": {
    "collapsed": true
   },
   "outputs": [],
   "source": [
    "# by column\n",
    "data.iloc[:,0:5]"
   ]
  },
  {
   "cell_type": "code",
   "execution_count": null,
   "metadata": {
    "collapsed": true
   },
   "outputs": [],
   "source": [
    "# by row\n",
    "data.loc[1:4]"
   ]
  },
  {
   "cell_type": "markdown",
   "metadata": {},
   "source": [
    "### transform the type of variable"
   ]
  },
  {
   "cell_type": "code",
   "execution_count": null,
   "metadata": {
    "collapsed": true,
    "scrolled": true
   },
   "outputs": [],
   "source": [
    "# transform the type to category\n",
    "data.city = data.city.astype('category')\n",
    "data.gender = data.gender.astype('category')\n",
    "data.registered_via = data.registered_via.astype('category')\n",
    "data.is_churn = data.is_churn.astype('category')"
   ]
  },
  {
   "cell_type": "code",
   "execution_count": null,
   "metadata": {
    "collapsed": true
   },
   "outputs": [],
   "source": [
    "# transform the type to datetime\n",
    "data.registration_init_time = pd.to_datetime(data.registration_init_time, format='%Y%m%d', errors='ignore')"
   ]
  },
  {
   "cell_type": "markdown",
   "metadata": {},
   "source": [
    "### Count for Variables"
   ]
  },
  {
   "cell_type": "code",
   "execution_count": null,
   "metadata": {
    "collapsed": true
   },
   "outputs": [],
   "source": [
    "# Count\n",
    "data.city.value_counts()"
   ]
  },
  {
   "cell_type": "code",
   "execution_count": null,
   "metadata": {
    "collapsed": true
   },
   "outputs": [],
   "source": [
    "data.bd.value_counts()"
   ]
  },
  {
   "cell_type": "code",
   "execution_count": null,
   "metadata": {
    "collapsed": true
   },
   "outputs": [],
   "source": [
    "data.gender.value_counts()"
   ]
  },
  {
   "cell_type": "code",
   "execution_count": null,
   "metadata": {
    "collapsed": true
   },
   "outputs": [],
   "source": [
    "data.registered_via.value_counts()"
   ]
  },
  {
   "cell_type": "code",
   "execution_count": null,
   "metadata": {
    "collapsed": true
   },
   "outputs": [],
   "source": [
    "data.is_churn.value_counts()"
   ]
  },
  {
   "cell_type": "markdown",
   "metadata": {},
   "source": [
    "### filter "
   ]
  },
  {
   "cell_type": "code",
   "execution_count": null,
   "metadata": {
    "collapsed": true
   },
   "outputs": [],
   "source": [
    "# age > 10\n",
    "data[data.bd>10]"
   ]
  },
  {
   "cell_type": "markdown",
   "metadata": {},
   "source": [
    "### missing value process"
   ]
  },
  {
   "cell_type": "code",
   "execution_count": null,
   "metadata": {
    "collapsed": true
   },
   "outputs": [],
   "source": [
    "# missing value\n",
    "data.isnull()"
   ]
  },
  {
   "cell_type": "code",
   "execution_count": null,
   "metadata": {
    "collapsed": true
   },
   "outputs": [],
   "source": [
    "# not missing value\n",
    "data.notnull()"
   ]
  },
  {
   "cell_type": "markdown",
   "metadata": {},
   "source": [
    "### fill missing value"
   ]
  },
  {
   "cell_type": "code",
   "execution_count": null,
   "metadata": {
    "collapsed": true
   },
   "outputs": [],
   "source": [
    "# remove instance with missing value\n",
    "rm_data = data.dropna()\n",
    "rm_data"
   ]
  },
  {
   "cell_type": "code",
   "execution_count": null,
   "metadata": {
    "collapsed": true
   },
   "outputs": [],
   "source": [
    "# fill the missing value by 0 \n",
    "fill_data = data.fillna(0)"
   ]
  },
  {
   "cell_type": "markdown",
   "metadata": {},
   "source": [
    "### join the data (concat, append, merge)"
   ]
  },
  {
   "cell_type": "code",
   "execution_count": null,
   "metadata": {
    "collapsed": true
   },
   "outputs": [],
   "source": [
    "# join the data (concat, append, merge)\n",
    "data_merge = pd.merge(data1, data2, how='data1', on='key')"
   ]
  },
  {
   "cell_type": "code",
   "execution_count": 7,
   "metadata": {
    "scrolled": true
   },
   "outputs": [
    {
     "data": {
      "text/plain": [
       "['msno',\n",
       " 'city',\n",
       " 'bd',\n",
       " 'gender',\n",
       " 'registered_via',\n",
       " 'registration_init_time',\n",
       " 'is_churn']"
      ]
     },
     "execution_count": 7,
     "metadata": {},
     "output_type": "execute_result"
    }
   ],
   "source": [
    "# plot\n",
    "%matplotlib inline\n",
    "import matplotlib.pyplot as plt\n",
    "plt.style.use('seaborn')\n",
    "# plt.style.use('ggplot')\n",
    "data.columns.tolist()"
   ]
  },
  {
   "cell_type": "code",
   "execution_count": null,
   "metadata": {
    "collapsed": true
   },
   "outputs": [],
   "source": [
    "plt.hist(data.city)"
   ]
  },
  {
   "cell_type": "code",
   "execution_count": 5,
   "metadata": {
    "collapsed": true
   },
   "outputs": [],
   "source": [
    "# seaborn package \n",
    "import seaborn as sns"
   ]
  },
  {
   "cell_type": "code",
   "execution_count": 8,
   "metadata": {},
   "outputs": [
    {
     "name": "stderr",
     "output_type": "stream",
     "text": [
      "/anaconda3/lib/python3.6/site-packages/seaborn/categorical.py:1460: FutureWarning: remove_na is deprecated and is a private function. Do not use.\n",
      "  stat_data = remove_na(group_data)\n"
     ]
    },
    {
     "data": {
      "text/plain": [
       "<matplotlib.axes._subplots.AxesSubplot at 0x11a676f60>"
      ]
     },
     "execution_count": 8,
     "metadata": {},
     "output_type": "execute_result"
    },
    {
     "data": {
      "image/png": "[encoded data removed]",
      "text/plain": [
       "<matplotlib.figure.Figure at 0x119715be0>"
      ]
     },
     "metadata": {},
     "output_type": "display_data"
    }
   ],
   "source": [
    "sns.countplot(x='city', data=data)"
   ]
  },
  {
   "cell_type": "code",
   "execution_count": 9,
   "metadata": {},
   "outputs": [
    {
     "name": "stderr",
     "output_type": "stream",
     "text": [
      "/anaconda3/lib/python3.6/site-packages/seaborn/categorical.py:1460: FutureWarning: remove_na is deprecated and is a private function. Do not use.\n",
      "  stat_data = remove_na(group_data)\n"
     ]
    },
    {
     "data": {
      "text/plain": [
       "<matplotlib.axes._subplots.AxesSubplot at 0x11a4a2d68>"
      ]
     },
     "execution_count": 9,
     "metadata": {},
     "output_type": "execute_result"
    },
    {
     "data": {
      "image/png": "[encoded data removed]",
      "text/plain": [
       "<matplotlib.figure.Figure at 0x112cf1f28>"
      ]
     },
     "metadata": {},
     "output_type": "display_data"
    }
   ],
   "source": [
    "sns.countplot(x='gender', data=data, palette=\"Set3\")"
   ]
  },
  {
   "cell_type": "code",
   "execution_count": 10,
   "metadata": {},
   "outputs": [
    {
     "name": "stderr",
     "output_type": "stream",
     "text": [
      "/anaconda3/lib/python3.6/site-packages/seaborn/categorical.py:1460: FutureWarning: remove_na is deprecated and is a private function. Do not use.\n",
      "  stat_data = remove_na(group_data)\n"
     ]
    },
    {
     "data": {
      "text/plain": [
       "<matplotlib.axes._subplots.AxesSubplot at 0x11a4be588>"
      ]
     },
     "execution_count": 10,
     "metadata": {},
     "output_type": "execute_result"
    },
    {
     "data": {
      "image/png": "[encoded data removed]",
      "text/plain": [
       "<matplotlib.figure.Figure at 0x112cf1c88>"
      ]
     },
     "metadata": {},
     "output_type": "display_data"
    }
   ],
   "source": [
    "sns.countplot(x='registered_via', data=data)"
   ]
  },
  {
   "cell_type": "code",
   "execution_count": 11,
   "metadata": {},
   "outputs": [
    {
     "name": "stderr",
     "output_type": "stream",
     "text": [
      "/anaconda3/lib/python3.6/site-packages/seaborn/categorical.py:1460: FutureWarning: remove_na is deprecated and is a private function. Do not use.\n",
      "  stat_data = remove_na(group_data)\n"
     ]
    },
    {
     "data": {
      "text/plain": [
       "<matplotlib.axes._subplots.AxesSubplot at 0x111f97898>"
      ]
     },
     "execution_count": 11,
     "metadata": {},
     "output_type": "execute_result"
    },
    {
     "data": {
      "image/png": "[encoded data removed]",
      "text/plain": [
       "<matplotlib.figure.Figure at 0x11a505ef0>"
      ]
     },
     "metadata": {},
     "output_type": "display_data"
    }
   ],
   "source": [
    "sns.countplot(x='is_churn', data=data)"
   ]
  },
  {
   "cell_type": "code",
   "execution_count": 12,
   "metadata": {},
   "outputs": [
    {
     "name": "stderr",
     "output_type": "stream",
     "text": [
      "/anaconda3/lib/python3.6/site-packages/seaborn/categorical.py:1508: FutureWarning: remove_na is deprecated and is a private function. Do not use.\n",
      "  stat_data = remove_na(group_data[hue_mask])\n"
     ]
    },
    {
     "data": {
      "text/plain": [
       "<matplotlib.axes._subplots.AxesSubplot at 0x11a4f9438>"
      ]
     },
     "execution_count": 12,
     "metadata": {},
     "output_type": "execute_result"
    },
    {
     "data": {
      "image/png": "[encoded data removed]",
      "text/plain": [
       "<matplotlib.figure.Figure at 0x112cf1f98>"
      ]
     },
     "metadata": {},
     "output_type": "display_data"
    }
   ],
   "source": [
    "sns.countplot(x='gender',hue='is_churn', data=data)"
   ]
  },
  {
   "cell_type": "code",
   "execution_count": 13,
   "metadata": {},
   "outputs": [
    {
     "data": {
      "text/plain": [
       "<matplotlib.axes._subplots.AxesSubplot at 0x111f21198>"
      ]
     },
     "execution_count": 13,
     "metadata": {},
     "output_type": "execute_result"
    },
    {
     "data": {
      "image/png": "[encoded data removed]",
      "text/plain": [
       "<matplotlib.figure.Figure at 0x1177bd320>"
      ]
     },
     "metadata": {},
     "output_type": "display_data"
    }
   ],
   "source": [
    "sns.kdeplot(data.bd, shade=True, color=\"#0abab5\")"
   ]
  },
  {
   "cell_type": "code",
   "execution_count": 14,
   "metadata": {},
   "outputs": [
    {
     "data": {
      "image/png": "[encoded data removed]",
      "text/plain": [
       "<matplotlib.figure.Figure at 0x11aad3908>"
      ]
     },
     "metadata": {},
     "output_type": "display_data"
    }
   ],
   "source": [
    "# plot age with gender\n",
    "g1 = data.bd[data.gender=='male']\n",
    "g2 = data.bd[data.gender=='female']\n",
    "ax = sns.kdeplot(g1, shade=True, color=\"orange\")\n",
    "ax = sns.kdeplot(g2, shade=True, color=\"#0abab5\")"
   ]
  },
  {
   "cell_type": "code",
   "execution_count": null,
   "metadata": {
    "collapsed": true
   },
   "outputs": [],
   "source": []
  }
 ],
 "metadata": {
  "kernelspec": {
   "display_name": "Python 3",
   "language": "python",
   "name": "python3"
  },
  "language_info": {
   "codemirror_mode": {
    "name": "ipython",
    "version": 3
   },
   "file_extension": ".py",
   "mimetype": "text/x-python",
   "name": "python",
   "nbconvert_exporter": "python",
   "pygments_lexer": "ipython3",
   "version": "3.6.6"
  }
 },
 "nbformat": 4,
 "nbformat_minor": 2
}
